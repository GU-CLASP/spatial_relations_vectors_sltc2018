{
 "cells": [
  {
   "cell_type": "code",
   "execution_count": 1,
   "metadata": {
    "collapsed": true
   },
   "outputs": [],
   "source": [
    "import os\n",
    "from scipy.spatial import distance\n",
    "import numpy as np\n",
    "from scipy.cluster.vq import kmeans\n",
    "from itertools import product, permutations\n",
    "\n",
    "%matplotlib inline\n",
    "import matplotlib\n",
    "import matplotlib.pyplot as plt\n",
    "from matplotlib.backends.backend_pdf import PdfPages\n",
    "\n",
    "import simple_gensim\n",
    "\n",
    "from time import time\n",
    "from sklearn.metrics import homogeneity_completeness_v_measure\n",
    "\n",
    "from time import time\n",
    "from matplotlib import offsetbox\n",
    "from sklearn import (manifold, datasets, decomposition, ensemble,\n",
    "                     discriminant_analysis, random_projection)"
   ]
  },
  {
   "cell_type": "code",
   "execution_count": 2,
   "metadata": {
    "collapsed": true
   },
   "outputs": [],
   "source": [
    "def k_mean_clustering(data, lexicon, k):\n",
    "    centroids = kmeans(data,k_or_guess=k, iter=1000)\n",
    "    centroids_reps = np.tile(np.expand_dims(centroids[0], 0), (data.shape[0], 1, 1))\n",
    "    embeddings_normal_reps = np.tile(np.expand_dims(data, 1), (1, centroids[0].shape[0], 1))\n",
    "    clusters = np.argmin(np.sum((centroids_reps-embeddings_normal_reps)**2, 2),1)\n",
    "    print(centroids[1])\n",
    "    for i in range(k):\n",
    "        print('k =', i)\n",
    "        print([w for w in lexicon[clusters == i]])\n",
    "        \n",
    "    return clusters"
   ]
  },
  {
   "cell_type": "code",
   "execution_count": 3,
   "metadata": {
    "collapsed": true
   },
   "outputs": [],
   "source": [
    "root_dir = \"models/relations\""
   ]
  },
  {
   "cell_type": "code",
   "execution_count": 4,
   "metadata": {
    "collapsed": true
   },
   "outputs": [],
   "source": [
    "rel_embeddings = np.load('{}/perplexity_vectors.npy'.format(root_dir))[None][0]\n",
    "rel_words_contexts = np.load('{}/words_contexts.npy'.format(root_dir))\n",
    "\n",
    "rel_embeddings_lm = np.load('{}/embeddings.npy'.format(root_dir))[None][0]\n",
    "rel_spatial_lexicon = np.load('{}/spatial_lexicon.npy'.format(root_dir))\n",
    "re_embeddings_lm_dict = dict(zip(rel_spatial_lexicon,rel_embeddings_lm))"
   ]
  },
  {
   "cell_type": "code",
   "execution_count": 5,
   "metadata": {},
   "outputs": [
    {
     "data": {
      "text/plain": [
       "((42, 300), (42, 42))"
      ]
     },
     "execution_count": 5,
     "metadata": {},
     "output_type": "execute_result"
    }
   ],
   "source": [
    "rel_embeddings_lm.shape, rel_embeddings.shape"
   ]
  },
  {
   "cell_type": "code",
   "execution_count": 6,
   "metadata": {},
   "outputs": [
    {
     "name": "stdout",
     "output_type": "stream",
     "text": [
      "word embeddings:\n",
      "3.79779\n",
      "k = 0\n",
      "['on_front_of', 'to', 'on_side_of', 'alongside', 'along', 'on_bottom_of', 'from', 'on', 'across', 'front', 'outside', 'at', 'inside', 'through', 'in', 'down', 'into', 'at_top_of', 'against', 'on_back_of', 'on_top_of']\n",
      "k = 1\n",
      "['with', 'right_of', 'above', 'next', 'under', 'in_back_of', 'to_right_of', 'below', 'next_to', 'without', 'beneath', 'around', 'in_front_of', 'to_left_of', 'between', 'by', 'behind', 'underneath', 'beside', 'over', 'near']\n",
      "==================================================\n",
      "distributional representation:\n",
      "2330.15818046\n",
      "k = 0\n",
      "['between', 'on_top_of', 'to_right_of', 'underneath', 'by', 'beneath', 'against', 'across', 'in_back_of', 'below', 'on_side_of', 'over', 'beside', 'under', 'to', 'next_to', 'from', 'at', 'behind', 'to_left_of', 'inside', 'in', 'in_front_of', 'around', 'with', 'on', 'front', 'near', 'next', 'above']\n",
      "k = 1\n",
      "['alongside', 'down', 'on_front_of', 'outside', 'on_bottom_of', 'without', 'into', 'along', 'right_of', 'at_top_of', 'on_back_of', 'through']\n",
      "(0.037690390679594329, 0.0325313514328699, 0.034921359338432399) (0.0325313514328699, 0.037690390679594329, 0.034921359338432399)\n",
      "word embeddings:\n",
      "2.85357\n",
      "k = 0\n",
      "['alongside', 'right_of', 'next', 'in_back_of', 'to_right_of', 'next_to', 'in_front_of', 'to_left_of', 'between', 'by', 'beside', 'near']\n",
      "k = 1\n",
      "['without']\n",
      "k = 2\n",
      "['against']\n",
      "k = 3\n",
      "['outside']\n",
      "k = 4\n",
      "['behind']\n",
      "k = 5\n",
      "['on_front_of', 'with', 'to', 'on_side_of', 'along', 'above', 'on_bottom_of', 'on', 'across', 'at', 'inside', 'around', 'in', 'down', 'into', 'at_top_of', 'on_back_of', 'on_top_of', 'over']\n",
      "k = 6\n",
      "['front']\n",
      "k = 7\n",
      "['through']\n",
      "k = 8\n",
      "['under', 'below', 'beneath', 'underneath']\n",
      "k = 9\n",
      "['from']\n",
      "==================================================\n",
      "distributional representation:\n",
      "1013.66154491\n",
      "k = 0\n",
      "['alongside']\n",
      "k = 1\n",
      "['on_front_of', 'on_bottom_of', 'on_back_of']\n",
      "k = 2\n",
      "['by', 'next_to', 'behind', 'in', 'in_front_of', 'on', 'near']\n",
      "k = 3\n",
      "['between', 'on_top_of', 'below', 'on_side_of', 'over', 'beside', 'under', 'around', 'with', 'above']\n",
      "k = 4\n",
      "['into', 'at_top_of', 'through']\n",
      "k = 5\n",
      "['without']\n",
      "k = 6\n",
      "['outside', 'in_back_of', 'along']\n",
      "k = 7\n",
      "['against', 'across', 'to', 'from', 'at', 'inside', 'front']\n",
      "k = 8\n",
      "['to_right_of', 'underneath', 'beneath', 'right_of', 'to_left_of', 'next']\n",
      "k = 9\n",
      "['down']\n",
      "(0.2412634173067619, 0.31621261204029566, 0.27369978747137935) (0.31621261204029572, 0.24126341730676193, 0.27369978747137941)\n",
      "word embeddings:\n",
      "1.85455\n",
      "k = 0\n",
      "['on_bottom_of']\n",
      "k = 1\n",
      "['under', 'below', 'beneath', 'underneath']\n",
      "k = 2\n",
      "['on_back_of']\n",
      "k = 3\n",
      "['alongside']\n",
      "k = 4\n",
      "['without']\n",
      "k = 5\n",
      "['to_right_of', 'to_left_of']\n",
      "k = 6\n",
      "['between']\n",
      "k = 7\n",
      "['outside']\n",
      "k = 8\n",
      "['across']\n",
      "k = 9\n",
      "['with']\n",
      "k = 10\n",
      "['to', 'on_side_of', 'along', 'above', 'in_back_of', 'from', 'on', 'front', 'around', 'in', 'at_top_of', 'on_top_of', 'over']\n",
      "k = 11\n",
      "['against']\n",
      "k = 12\n",
      "['next', 'next_to', 'in_front_of', 'by', 'behind', 'beside', 'near']\n",
      "k = 13\n",
      "['down']\n",
      "k = 14\n",
      "['inside']\n",
      "k = 15\n",
      "['right_of']\n",
      "k = 16\n",
      "['on_front_of']\n",
      "k = 17\n",
      "['into']\n",
      "k = 18\n",
      "['through']\n",
      "k = 19\n",
      "['at']\n",
      "==================================================\n",
      "distributional representation:\n",
      "506.478021109\n",
      "k = 0\n",
      "['along']\n",
      "k = 1\n",
      "['without']\n",
      "k = 2\n",
      "['outside', 'in_back_of']\n",
      "k = 3\n",
      "['through']\n",
      "k = 4\n",
      "['against', 'across', 'to', 'from', 'at', 'inside']\n",
      "k = 5\n",
      "['right_of']\n",
      "k = 6\n",
      "['over', 'beside', 'above']\n",
      "k = 7\n",
      "['by', 'next_to', 'behind', 'in_front_of', 'near']\n",
      "k = 8\n",
      "['on_back_of']\n",
      "k = 9\n",
      "['down']\n",
      "k = 10\n",
      "['on_top_of', 'on_side_of']\n",
      "k = 11\n",
      "['on_bottom_of']\n",
      "k = 12\n",
      "['under', 'with']\n",
      "k = 13\n",
      "['in', 'on']\n",
      "k = 14\n",
      "['underneath', 'beneath']\n",
      "k = 15\n",
      "['into', 'at_top_of']\n",
      "k = 16\n",
      "['alongside']\n",
      "k = 17\n",
      "['on_front_of']\n",
      "k = 18\n",
      "['to_right_of', 'to_left_of', 'front', 'next']\n",
      "k = 19\n",
      "['between', 'below', 'around']\n",
      "(0.58929664895265521, 0.67301541380397045, 0.62837984322523277) (0.67301541380397045, 0.58929664895265521, 0.62837984322523277)\n",
      "word embeddings:\n",
      "0.946595\n",
      "k = 0\n",
      "['into']\n",
      "k = 1\n",
      "['from']\n",
      "k = 2\n",
      "['below', 'beneath']\n",
      "k = 3\n",
      "['at']\n",
      "k = 4\n",
      "['across']\n",
      "k = 5\n",
      "['around']\n",
      "k = 6\n",
      "['over']\n",
      "k = 7\n",
      "['on_front_of', 'on_bottom_of', 'on', 'inside', 'in', 'on_top_of']\n",
      "k = 8\n",
      "['front']\n",
      "k = 9\n",
      "['against']\n",
      "k = 10\n",
      "['next', 'next_to', 'by', 'beside', 'near']\n",
      "k = 11\n",
      "['right_of', 'to_left_of']\n",
      "k = 12\n",
      "['to_right_of']\n",
      "k = 13\n",
      "['on_side_of']\n",
      "k = 14\n",
      "['with']\n",
      "k = 15\n",
      "['in_front_of']\n",
      "k = 16\n",
      "['under', 'underneath']\n",
      "k = 17\n",
      "['to']\n",
      "k = 18\n",
      "['above']\n",
      "k = 19\n",
      "['outside']\n",
      "k = 20\n",
      "['on_back_of']\n",
      "k = 21\n",
      "['in_back_of']\n",
      "k = 22\n",
      "['down']\n",
      "k = 23\n",
      "['at_top_of']\n",
      "k = 24\n",
      "['without']\n",
      "k = 25\n",
      "['alongside']\n",
      "k = 26\n",
      "['through']\n",
      "k = 27\n",
      "['along']\n",
      "k = 28\n",
      "['behind']\n",
      "k = 29\n",
      "['between']\n",
      "==================================================\n",
      "distributional representation:\n",
      "197.045903022\n",
      "k = 0\n",
      "['on_bottom_of']\n",
      "k = 1\n",
      "['below']\n",
      "k = 2\n",
      "['at_top_of']\n",
      "k = 3\n",
      "['in_back_of']\n",
      "k = 4\n",
      "['alongside']\n",
      "k = 5\n",
      "['down']\n",
      "k = 6\n",
      "['on_side_of']\n",
      "k = 7\n",
      "['between', 'next']\n",
      "k = 8\n",
      "['across']\n",
      "k = 9\n",
      "['beneath']\n",
      "k = 10\n",
      "['by', 'next_to', 'behind', 'in_front_of', 'near']\n",
      "k = 11\n",
      "['on_back_of']\n",
      "k = 12\n",
      "['from']\n",
      "k = 13\n",
      "['at']\n",
      "k = 14\n",
      "['into']\n",
      "k = 15\n",
      "['on_front_of']\n",
      "k = 16\n",
      "['against']\n",
      "k = 17\n",
      "['front']\n",
      "k = 18\n",
      "['without']\n",
      "k = 19\n",
      "['to_right_of']\n",
      "k = 20\n",
      "['under', 'with']\n",
      "k = 21\n",
      "['to', 'inside']\n",
      "k = 22\n",
      "['right_of']\n",
      "k = 23\n",
      "['in', 'on']\n",
      "k = 24\n",
      "['through']\n",
      "k = 25\n",
      "['outside']\n",
      "k = 26\n",
      "['underneath']\n",
      "k = 27\n",
      "['to_left_of']\n",
      "k = 28\n",
      "['along']\n",
      "k = 29\n",
      "['on_top_of', 'over', 'beside', 'around', 'above']\n",
      "(0.85086701747616045, 0.85922851532105371, 0.85502732466161946) (0.85922851532105393, 0.85086701747616056, 0.85502732466161957)\n"
     ]
    }
   ],
   "source": [
    "for k in [2, 10, 20, 30]:\n",
    "    print('word embeddings:')\n",
    "    clusters_lm = k_mean_clustering(rel_embeddings_lm, rel_spatial_lexicon, k)\n",
    "    print('='*50)\n",
    "    print('distributional representation:')\n",
    "    clusters_pp = k_mean_clustering(rel_embeddings, rel_words_contexts[0], k)\n",
    "\n",
    "    print(homogeneity_completeness_v_measure(clusters_pp,clusters_lm), homogeneity_completeness_v_measure(clusters_lm,clusters_pp))\n"
   ]
  },
  {
   "cell_type": "code",
   "execution_count": null,
   "metadata": {
    "collapsed": true
   },
   "outputs": [],
   "source": []
  },
  {
   "cell_type": "code",
   "execution_count": 7,
   "metadata": {
    "collapsed": true
   },
   "outputs": [],
   "source": [
    "logan_sadler_vecs = np.load('logan_sadler.npy')[None][0]\n",
    "logan_sadler_vecs = {\n",
    "    w.split('_')[0]: vec\n",
    "    for w, vec in logan_sadler_vecs.items()\n",
    "}\n",
    "embeddings_ls = (np.array(list(logan_sadler_vecs.values())).reshape(10,49)-1)/8\n",
    "spatial_lexicon_ls = np.array(list(logan_sadler_vecs.keys()))"
   ]
  },
  {
   "cell_type": "code",
   "execution_count": 8,
   "metadata": {},
   "outputs": [
    {
     "name": "stdout",
     "output_type": "stream",
     "text": [
      "0.192251677888\n",
      "k = 0\n",
      "['left']\n",
      "k = 1\n",
      "['below', 'under']\n",
      "k = 2\n",
      "['away', 'far']\n",
      "k = 3\n",
      "['next', 'near']\n",
      "k = 4\n",
      "['above', 'over']\n",
      "k = 5\n",
      "['right']\n"
     ]
    },
    {
     "data": {
      "text/plain": [
       "array([4, 1, 4, 1, 0, 5, 3, 2, 3, 2])"
      ]
     },
     "execution_count": 8,
     "metadata": {},
     "output_type": "execute_result"
    }
   ],
   "source": [
    "k_mean_clustering(embeddings_ls, spatial_lexicon_ls, 6)"
   ]
  },
  {
   "cell_type": "code",
   "execution_count": 9,
   "metadata": {
    "collapsed": true
   },
   "outputs": [],
   "source": [
    "root_dir = \"models/visual_genome_phrases\""
   ]
  },
  {
   "cell_type": "code",
   "execution_count": 10,
   "metadata": {
    "collapsed": true
   },
   "outputs": [],
   "source": [
    "embeddings_lm = np.load('{}/embeddings.npy'.format(root_dir))[None][0]\n",
    "spatial_lexicon = np.load('{}/spatial_lexicon.npy'.format(root_dir))\n",
    "embeddings = np.load('{}/perplexity_vectors.npy'.format(root_dir))[None][0]\n",
    "words_contexts = np.load('{}/words_contexts.npy'.format(root_dir))\n",
    "\n",
    "#contexts_filter = sorted([w for w in buckets if len(buckets[w])>100])\n",
    "#words_filter = sorted([w for w in buckets if len(buckets[w])>100])\n",
    "\n",
    "words = np.array(list(words_contexts[0]))\n",
    "contexts = np.array(list(words_contexts[1]))\n"
   ]
  },
  {
   "cell_type": "code",
   "execution_count": 11,
   "metadata": {},
   "outputs": [
    {
     "name": "stdout",
     "output_type": "stream",
     "text": [
      "3.14564\n",
      "k = 0\n",
      "['right', 'left']\n",
      "k = 1\n",
      "['upward']\n",
      "k = 2\n",
      "['outside']\n",
      "k = 3\n",
      "['off']\n",
      "k = 4\n",
      "['around']\n",
      "k = 5\n",
      "['next']\n",
      "k = 6\n",
      "['underneath', 'beneath', 'below', 'under']\n",
      "k = 7\n",
      "['apart']\n",
      "k = 8\n",
      "['alongside']\n",
      "k = 9\n",
      "['sideways']\n",
      "k = 10\n",
      "['backwards']\n",
      "k = 11\n",
      "['among']\n",
      "k = 12\n",
      "['between']\n",
      "k = 13\n",
      "['away']\n",
      "k = 14\n",
      "['within']\n",
      "k = 15\n",
      "['before', 'the', 'with', 'out', 'after', 'up', 'in', 'above', 'together', 'side', 'through', 'top', 'here', 'down', 'beside', 'bottom', 'on', 'without', 'near', 'of', 'there', 'by', 'along', 'over', 'from', 'toward', 'against', 'behind', 'across', 'onto', 'into', 'inside', 'to']\n",
      "k = 16\n",
      "['about']\n",
      "k = 17\n",
      "['during']\n",
      "k = 18\n",
      "['at']\n",
      "k = 19\n",
      "['back', 'front']\n"
     ]
    }
   ],
   "source": [
    "clusters_lm = k_mean_clustering(embeddings_lm, spatial_lexicon, 20)"
   ]
  },
  {
   "cell_type": "code",
   "execution_count": 12,
   "metadata": {
    "collapsed": true
   },
   "outputs": [],
   "source": [
    "glove_visual_genome = simple_gensim.KeyedVectors.load_word2vec_format('vg.vec.txt')\n",
    "embeddings_glove = np.array([\n",
    "    glove_visual_genome[w]\n",
    "    for w in spatial_lexicon\n",
    "])"
   ]
  },
  {
   "cell_type": "code",
   "execution_count": 13,
   "metadata": {},
   "outputs": [
    {
     "name": "stdout",
     "output_type": "stream",
     "text": [
      "3.83925\n",
      "k = 0\n",
      "['off']\n",
      "k = 1\n",
      "['from']\n",
      "k = 2\n",
      "['apart']\n",
      "k = 3\n",
      "['between']\n",
      "k = 4\n",
      "['underneath', 'beneath', 'below', 'under']\n",
      "k = 5\n",
      "['over']\n",
      "k = 6\n",
      "['by']\n",
      "k = 7\n",
      "['top']\n",
      "k = 8\n",
      "['about', 'sideways', 'after', 'up', 'together', 'through', 'down', 'without', 'upward', 'backwards', 'during', 'toward', 'onto']\n",
      "k = 9\n",
      "['in']\n",
      "k = 10\n",
      "['out']\n",
      "k = 11\n",
      "['away']\n",
      "k = 12\n",
      "['across']\n",
      "k = 13\n",
      "['with', 'outside', 'around', 'here', 'beside', 'next', 'near', 'there', 'at', 'against', 'behind', 'inside']\n",
      "k = 14\n",
      "['above']\n",
      "k = 15\n",
      "['the', 'on', 'of']\n",
      "k = 16\n",
      "['before', 'within', 'alongside', 'among']\n",
      "k = 17\n",
      "['side', 'right', 'back', 'bottom', 'left', 'front', 'to']\n",
      "k = 18\n",
      "['into']\n",
      "k = 19\n",
      "['along']\n"
     ]
    }
   ],
   "source": [
    "clusters_glove = k_mean_clustering(embeddings_glove, spatial_lexicon, 20)"
   ]
  },
  {
   "cell_type": "code",
   "execution_count": 14,
   "metadata": {
    "collapsed": true
   },
   "outputs": [],
   "source": [
    "glove_42B = simple_gensim.KeyedVectors.load_word2vec_format('/home/librarian/pretrained/glove.42B.300d.txt')\n",
    "embeddings_glove2 = np.array([\n",
    "    glove_42B[w]\n",
    "    for w in spatial_lexicon\n",
    "])"
   ]
  },
  {
   "cell_type": "code",
   "execution_count": 15,
   "metadata": {},
   "outputs": [
    {
     "name": "stdout",
     "output_type": "stream",
     "text": [
      "2.84805\n",
      "k = 0\n",
      "['near']\n",
      "k = 1\n",
      "['apart', 'together', 'alongside']\n",
      "k = 2\n",
      "['about']\n",
      "k = 3\n",
      "['underneath', 'beneath', 'beside', 'inside']\n",
      "k = 4\n",
      "['against']\n",
      "k = 5\n",
      "['onto']\n",
      "k = 6\n",
      "['at']\n",
      "k = 7\n",
      "['under']\n",
      "k = 8\n",
      "['by']\n",
      "k = 9\n",
      "['from']\n",
      "k = 10\n",
      "['next']\n",
      "k = 11\n",
      "['above', 'below']\n",
      "k = 12\n",
      "['top', 'bottom']\n",
      "k = 13\n",
      "['in', 'here', 'right', 'there']\n",
      "k = 14\n",
      "['before', 'the', 'with', 'after', 'without', 'of', 'during', 'into', 'to']\n",
      "k = 15\n",
      "['away', 'out', 'up', 'down', 'back', 'left', 'toward', 'off', 'behind']\n",
      "k = 16\n",
      "['side', 'front']\n",
      "k = 17\n",
      "['outside', 'within', 'around', 'through', 'between', 'along', 'over', 'across', 'among']\n",
      "k = 18\n",
      "['sideways', 'upward', 'backwards']\n",
      "k = 19\n",
      "['on']\n"
     ]
    }
   ],
   "source": [
    "clusters_glove2 = k_mean_clustering(embeddings_glove2, spatial_lexicon, 20)"
   ]
  },
  {
   "cell_type": "code",
   "execution_count": 16,
   "metadata": {
    "collapsed": true
   },
   "outputs": [],
   "source": [
    "buckets = np.load('{}/buckets.npy'.format(root_dir))[None][0]\n",
    "buckets = {\n",
    "    rel: len(buckets[rel])\n",
    "    for rel in buckets\n",
    "}"
   ]
  },
  {
   "cell_type": "code",
   "execution_count": 38,
   "metadata": {
    "collapsed": true
   },
   "outputs": [],
   "source": [
    "composit_simple = np.load('{}/composit2simple.npy'.format(root_dir))\n",
    "composit_simple = composit_simple.T\n",
    "simple_classes_set = list(set(composit_simple[:,1]))\n",
    "simple_classes = {\n",
    "    composit: simple_classes_set.index(simple)\n",
    "    for composit,simple in composit_simple\n",
    "}\n",
    "\n",
    "simple2composit = {\n",
    "    rel: [composit for composit,simple in composit_simple if rel == simple]\n",
    "    for rel in simple_classes_set\n",
    "}\n",
    "\n",
    "composit2simple = {\n",
    "    composit: simple\n",
    "    for composit,simple in composit_simple\n",
    "}\n",
    "\n",
    "# the order in following list matters for coloring the results\n",
    "simple_classes_set2 = [\n",
    "    #'next', 'side', 'beside', 'near',\n",
    "    'by','with',\n",
    "    'left', 'right',\n",
    "#    'before', 'after',\n",
    "    'behind',\n",
    "    'back', 'front',\n",
    "    'below', 'under', \n",
    "    'over', 'above',\n",
    "    'to', 'at', \n",
    "    'away', 'apart', 'without',\n",
    "#    'off',\n",
    "#    'against',\n",
    "#    'from',\n",
    "#    'together', 'among',\n",
    "#    'alongside', \n",
    "#    'along', 'across','during', \n",
    "#    'sideways', \n",
    "    'between', 'within', 'through', \n",
    "#    'around', 'about',\n",
    "#   'inside', 'into', \n",
    "#    'onto', \n",
    "    'underneath', 'beneath',\n",
    "    'out', 'outside',\n",
    "    'in',\n",
    "    'on',\n",
    "#    'up', 'top', 'down', 'bottom',\n",
    "#    'upward', 'toward', 'backward', \n",
    "#    'here', 'there',\n",
    "]\n",
    "\n",
    "non_relations = ['left', 'right', 'front', 'back', ]\n",
    "\n",
    "word_filter = [\n",
    "    w \n",
    "    for simple in simple_classes_set2 \n",
    "    for w in simple2composit[simple] \n",
    "    if w not in non_relations\n",
    "    if w in buckets and buckets[w] > 100\n",
    "]\n"
   ]
  },
  {
   "cell_type": "code",
   "execution_count": 35,
   "metadata": {
    "collapsed": true
   },
   "outputs": [],
   "source": [
    "context_filter = [\n",
    "    'to the left of', 'to the right of',\n",
    "    'in front of', 'behind'\n",
    "    'above', 'below', \n",
    "    'over', 'under',\n",
    "    'on',\n",
    "    'in',\n",
    "    'next to',\n",
    "    'with',\n",
    "    'between' \n",
    "]\n",
    "#context_filter = [w for w in buckets if buckets[w]>100]"
   ]
  },
  {
   "cell_type": "code",
   "execution_count": 202,
   "metadata": {
    "collapsed": true
   },
   "outputs": [],
   "source": [
    "embeddings = np.load('{}/perplexity_vectors.npy'.format(root_dir))[None][0]\n",
    "words_contexts = np.load('{}/words_contexts.npy'.format(root_dir))\n",
    "\n",
    "#contexts_filter = sorted([w for w in buckets if len(buckets[w])>100])\n",
    "#words_filter = sorted([w for w in buckets if len(buckets[w])>100])\n",
    "\n",
    "words = np.array(list(words_contexts[0]))\n",
    "contexts = np.array(list(words_contexts[1]))\n",
    "\n",
    "embedding_dimensions = [np.where(contexts == w)[0][0] for w in word_filter if w in contexts]\n",
    "#embedding_dimensions = [np.where(contexts == w)[0][0] for w in context_filter if w in contexts]\n",
    "#embedding_indices = [np.where(words == w)[0][0] for w in word_filter if w in words]\n",
    "embedding_indices = [np.where(words == w)[0][0] for w in words if w in word_filter]\n",
    "\n",
    "words = words[embedding_indices]\n",
    "contexts = contexts[embedding_dimensions]\n",
    "\n",
    "embeddings = embeddings[embedding_indices][:,embedding_dimensions]\n",
    "# lower bound norm\n",
    "embeddings_normal = embeddings/np.expand_dims(np.sum(embeddings, 0),0)\n",
    "#embeddings_normal = embeddings/np.expand_dims(np.linalg.norm(embeddings_normal, axis=0),0)\n",
    "# unit vector norm for clustering\n",
    "embeddings_normal2 = embeddings_normal / np.expand_dims(np.linalg.norm(embeddings_normal, axis=1),1)"
   ]
  },
  {
   "cell_type": "code",
   "execution_count": 203,
   "metadata": {},
   "outputs": [
    {
     "data": {
      "text/plain": [
       "(29,)"
      ]
     },
     "execution_count": 203,
     "metadata": {},
     "output_type": "execute_result"
    }
   ],
   "source": [
    "words.shape"
   ]
  },
  {
   "cell_type": "code",
   "execution_count": 204,
   "metadata": {
    "collapsed": true
   },
   "outputs": [],
   "source": [
    "contextual_weights = [buckets[c] for c in contexts]\n",
    "contextual_weights = [-np.log2(buckets[c])+np.log2(sum(contextual_weights)) for c in contexts]"
   ]
  },
  {
   "cell_type": "code",
   "execution_count": 205,
   "metadata": {
    "collapsed": true
   },
   "outputs": [],
   "source": [
    "embeddings_normal3 = embeddings / (2**np.expand_dims(contextual_weights, 0))\n",
    "embeddings_normal3 = embeddings_normal3/np.expand_dims(np.sum(embeddings_normal3, 0),0)\n",
    "embeddings_normal3 = embeddings_normal3 / np.expand_dims(np.linalg.norm(embeddings_normal3, axis=1),1)"
   ]
  },
  {
   "cell_type": "code",
   "execution_count": 206,
   "metadata": {},
   "outputs": [
    {
     "data": {
      "text/plain": [
       "array([[ 0.21463088,  0.19127098,  0.19504993,  0.19796943,  0.13705493,\n",
       "         0.08077939,  0.14659578,  0.11892724,  0.11617009,  0.06120753,\n",
       "         0.14383695,  0.1716717 ,  0.06406358,  0.17644238,  0.19051914,\n",
       "         0.21052973,  0.18176137,  0.23384015,  0.25147733,  0.1764968 ,\n",
       "         0.18060159,  0.17673557,  0.23755532,  0.17997794,  0.1774189 ,\n",
       "         0.29817983,  0.24538566,  0.19553052,  0.20564156],\n",
       "       [ 0.19759079,  0.19184705,  0.16026129,  0.16963098,  0.14335344,\n",
       "         0.10828865,  0.18089402,  0.17731746,  0.12962035,  0.10041819,\n",
       "         0.15893886,  0.169429  ,  0.07856677,  0.16132098,  0.17953278,\n",
       "         0.21567862,  0.17379189,  0.18118934,  0.24612597,  0.14486725,\n",
       "         0.18063688,  0.17499638,  0.25533989,  0.15886139,  0.16009765,\n",
       "         0.32141466,  0.21788268,  0.25490646,  0.20439827],\n",
       "       [ 0.19573987,  0.19211357,  0.16180508,  0.17087656,  0.14396087,\n",
       "         0.10730315,  0.18323562,  0.17993272,  0.13610129,  0.09990813,\n",
       "         0.15896344,  0.1740033 ,  0.0795311 ,  0.16218699,  0.1797487 ,\n",
       "         0.21393025,  0.17562558,  0.17835115,  0.24605344,  0.14293619,\n",
       "         0.17906604,  0.17387989,  0.25139101,  0.15900996,  0.16072829,\n",
       "         0.31882902,  0.21819635,  0.25408315,  0.20589105],\n",
       "       [ 0.19720475,  0.17420538,  0.22568439,  0.22546002,  0.23278789,\n",
       "         0.17566232,  0.16963135,  0.12093429,  0.23342447,  0.14894471,\n",
       "         0.19246692,  0.15982106,  0.13594334,  0.21908586,  0.21331195,\n",
       "         0.19360266,  0.19663862,  0.19661187,  0.15844789,  0.20013673,\n",
       "         0.22637416,  0.21157745,  0.12812356,  0.20863315,  0.22188099,\n",
       "         0.15250055,  0.13996067,  0.05747786,  0.13420643],\n",
       "       [ 0.17746894,  0.17080698,  0.15132988,  0.15445004,  0.15541342,\n",
       "         0.20342147,  0.18121816,  0.20146397,  0.22306193,  0.20547497,\n",
       "         0.18316759,  0.18662185,  0.21360503,  0.1272859 ,  0.11819907,\n",
       "         0.19759925,  0.17957937,  0.2257664 ,  0.21895745,  0.19685748,\n",
       "         0.15932755,  0.15734942,  0.21007798,  0.1252767 ,  0.0941873 ,\n",
       "         0.21333259,  0.24369798,  0.20978858,  0.20185463],\n",
       "       [ 0.18509887,  0.23275415,  0.21694568,  0.23684839,  0.23638697,\n",
       "         0.16837107,  0.08643252,  0.15848162,  0.23457444,  0.06639477,\n",
       "         0.19104163,  0.07479593,  0.05397974,  0.19941794,  0.18032886,\n",
       "         0.16183275,  0.17550884,  0.18755854,  0.16673902,  0.26235513,\n",
       "         0.21519788,  0.19776139,  0.20706135,  0.17536067,  0.20377025,\n",
       "         0.24708939,  0.20154343,  0.13615028,  0.07267051],\n",
       "       [ 0.19559488,  0.22301305,  0.17031846,  0.17160728,  0.18494022,\n",
       "         0.13393394,  0.11444541,  0.15464485,  0.01070002,  0.07869855,\n",
       "         0.20004741,  0.13960731,  0.09806148,  0.20167928,  0.19512712,\n",
       "         0.19414505,  0.21240254,  0.14357013,  0.20513775,  0.28246164,\n",
       "         0.19496409,  0.20136907,  0.21454929,  0.18507794,  0.18693109,\n",
       "         0.1821357 ,  0.25268063,  0.2399129 ,  0.19120782],\n",
       "       [ 0.18958761,  0.19262489,  0.15348081,  0.15842651,  0.15353744,\n",
       "         0.19432052,  0.1839558 ,  0.20735145,  0.24336374,  0.1927603 ,\n",
       "         0.17787029,  0.17665172,  0.18932832,  0.11742487,  0.13453484,\n",
       "         0.19190581,  0.15899966,  0.23643755,  0.21375616,  0.18987369,\n",
       "         0.18166078,  0.18147707,  0.21752307,  0.14299732,  0.11615352,\n",
       "         0.19652782,  0.20254526,  0.22171812,  0.19343262],\n",
       "       [ 0.18564429,  0.18925046,  0.17566611,  0.18410128,  0.1714608 ,\n",
       "         0.19681894,  0.16606681,  0.19205574,  0.20504101,  0.16034102,\n",
       "         0.18154426,  0.17449694,  0.1772431 ,  0.13611417,  0.10761619,\n",
       "         0.19573793,  0.19098674,  0.25747305,  0.21684414,  0.20025474,\n",
       "         0.18564312,  0.17127635,  0.22082317,  0.11806332,  0.11018361,\n",
       "         0.21249701,  0.21288479,  0.2164351 ,  0.18847084],\n",
       "       [ 0.22252616,  0.20815243,  0.20051252,  0.20340646,  0.15396974,\n",
       "         0.09953849,  0.12107754,  0.10069284,  0.09800529,  0.06969996,\n",
       "         0.1648534 ,  0.13814555,  0.07089632,  0.177123  ,  0.19228252,\n",
       "         0.21810301,  0.18453411,  0.23312903,  0.25603696,  0.16242528,\n",
       "         0.19084384,  0.18121112,  0.2413869 ,  0.17189819,  0.18312682,\n",
       "         0.29738366,  0.22579388,  0.19561542,  0.19199591],\n",
       "       [ 0.16983513,  0.03069495,  0.19142284,  0.18346355,  0.17537507,\n",
       "         0.16605678,  0.22881247,  0.22698365,  0.20970496,  0.1729598 ,\n",
       "         0.17589869,  0.27651903,  0.17591609,  0.18119413,  0.15634532,\n",
       "         0.19224101,  0.21340123,  0.15227648,  0.18205658,  0.04138289,\n",
       "         0.15444797,  0.13741631,  0.20637577,  0.16978259,  0.16360398,\n",
       "         0.25575303,  0.24851579,  0.14969024,  0.19273983],\n",
       "       [ 0.2090704 ,  0.06165472,  0.16784166,  0.16549805,  0.18845718,\n",
       "         0.2115253 ,  0.18975342,  0.22024057,  0.17612158,  0.20997584,\n",
       "         0.1988002 ,  0.20574836,  0.21524722,  0.18261218,  0.17040921,\n",
       "         0.20064085,  0.20590372,  0.15747262,  0.19289558,  0.01662066,\n",
       "         0.17025562,  0.16128818,  0.21091395,  0.1764093 ,  0.17709982,\n",
       "         0.23141321,  0.21867223,  0.15804515,  0.18227006],\n",
       "       [ 0.19660973,  0.18568151,  0.1579877 ,  0.16744849,  0.1770089 ,\n",
       "         0.21451547,  0.15093895,  0.17450003,  0.19918121,  0.17087222,\n",
       "         0.18570285,  0.15595035,  0.18663787,  0.14054586,  0.11371815,\n",
       "         0.20418343,  0.19974402,  0.27083348,  0.22535004,  0.2247147 ,\n",
       "         0.17374069,  0.15763231,  0.23375389,  0.10611106,  0.11468337,\n",
       "         0.17678903,  0.19854795,  0.2244972 ,  0.19160127],\n",
       "       [ 0.16756846,  0.21691164,  0.14862841,  0.14769657,  0.0944119 ,\n",
       "         0.12342579,  0.18759683,  0.15888485,  0.22371104,  0.17767001,\n",
       "         0.14443193,  0.19641149,  0.187294  ,  0.15967167,  0.16932076,\n",
       "         0.19861964,  0.14900182,  0.24160189,  0.1994219 ,  0.19738652,\n",
       "         0.17479532,  0.18250033,  0.2221094 ,  0.17383758,  0.14866449,\n",
       "         0.25503699,  0.1880956 ,  0.23492017,  0.2149615 ],\n",
       "       [ 0.17122106,  0.17060454,  0.19058606,  0.20138652,  0.20464356,\n",
       "         0.1972066 ,  0.23011029,  0.16819131,  0.21700483,  0.2792639 ,\n",
       "         0.19693273,  0.21678805,  0.27586407,  0.19381377,  0.21391476,\n",
       "         0.14900146,  0.16031135,  0.14727686,  0.12376929,  0.15536803,\n",
       "         0.15326864,  0.16725623,  0.0335989 ,  0.22834926,  0.22599908,\n",
       "         0.07784733,  0.1254483 ,  0.10648971,  0.18548607],\n",
       "       [ 0.1747667 ,  0.21918422,  0.19046111,  0.18529402,  0.21391279,\n",
       "         0.19826354,  0.16561681,  0.21051859,  0.18425842,  0.15894479,\n",
       "         0.201616  ,  0.14151661,  0.14119325,  0.20118726,  0.20691798,\n",
       "         0.17112368,  0.20605658,  0.03653077,  0.14242355,  0.24945679,\n",
       "         0.20047571,  0.20878739,  0.18906074,  0.20897528,  0.21014574,\n",
       "         0.13722092,  0.17830445,  0.17974838,  0.15809368],\n",
       "       [ 0.17521608,  0.25994772,  0.16932351,  0.16887588,  0.16371105,\n",
       "         0.1708141 ,  0.20754839,  0.15667581,  0.11317315,  0.2577807 ,\n",
       "         0.1487333 ,  0.16580989,  0.21519493,  0.19468644,  0.2157577 ,\n",
       "         0.1859772 ,  0.17559505,  0.16368733,  0.14292181,  0.2521502 ,\n",
       "         0.23195589,  0.21905242,  0.15597119,  0.21476245,  0.20153084,\n",
       "         0.07427227,  0.03587111,  0.16780291,  0.19303856],\n",
       "       [ 0.18993309,  0.1800263 ,  0.19305742,  0.19399518,  0.1655443 ,\n",
       "         0.15794957,  0.23169517,  0.17229666,  0.24857827,  0.1572673 ,\n",
       "         0.1649094 ,  0.22614322,  0.14395291,  0.18537586,  0.19720755,\n",
       "         0.19575526,  0.17569775,  0.21644821,  0.21194686,  0.18380607,\n",
       "         0.0869203 ,  0.07972687,  0.16263603,  0.18087056,  0.17399545,\n",
       "         0.19784665,  0.21166789,  0.19746821,  0.20252096],\n",
       "       [ 0.18713989,  0.22746964,  0.16701923,  0.17278941,  0.15824572,\n",
       "         0.17332312,  0.1713787 ,  0.19785199,  0.22833155,  0.17003612,\n",
       "         0.18740839,  0.14686096,  0.14305142,  0.16530583,  0.19197524,\n",
       "         0.12494376,  0.08351572,  0.24834654,  0.21500526,  0.22569154,\n",
       "         0.1813161 ,  0.18800169,  0.19309707,  0.19120298,  0.19136128,\n",
       "         0.19207643,  0.19519246,  0.21028979,  0.17372028],\n",
       "       [ 0.21970197,  0.23750256,  0.18671916,  0.20410166,  0.17140258,\n",
       "         0.1166977 ,  0.08156931,  0.13432994,  0.1233265 ,  0.05314528,\n",
       "         0.15615962,  0.06444776,  0.03652357,  0.15883334,  0.18026925,\n",
       "         0.19400498,  0.16183993,  0.2229824 ,  0.24734797,  0.21228463,\n",
       "         0.18579032,  0.17381731,  0.2687416 ,  0.1598328 ,  0.17015683,\n",
       "         0.32241632,  0.22309497,  0.24480108,  0.14343607],\n",
       "       [ 0.20986003,  0.19745382,  0.20624822,  0.20911552,  0.16082868,\n",
       "         0.08171705,  0.08445722,  0.13053575,  0.09067747,  0.02815267,\n",
       "         0.1488725 ,  0.106412  ,  0.0301309 ,  0.18179513,  0.1732257 ,\n",
       "         0.18739498,  0.18284877,  0.21534354,  0.24575247,  0.20052377,\n",
       "         0.1892762 ,  0.18641017,  0.27483735,  0.15682686,  0.18074917,\n",
       "         0.32231117,  0.27228819,  0.2257886 ,  0.14004631],\n",
       "       [ 0.17989667,  0.2030718 ,  0.19335201,  0.20252656,  0.19231832,\n",
       "         0.18825874,  0.16967013,  0.22637938,  0.20241947,  0.16500463,\n",
       "         0.20283535,  0.17606011,  0.15972999,  0.19305344,  0.19180127,\n",
       "         0.08970448,  0.10877511,  0.19472353,  0.19110673,  0.22489562,\n",
       "         0.18857104,  0.19451818,  0.17256176,  0.18932754,  0.2076989 ,\n",
       "         0.15966474,  0.19171173,  0.19940082,  0.16298053],\n",
       "       [ 0.14844924,  0.18311853,  0.20324145,  0.17324217,  0.22760238,\n",
       "         0.22895656,  0.20404216,  0.1532651 ,  0.1078715 ,  0.22389053,\n",
       "         0.19483695,  0.2173887 ,  0.26329826,  0.22403686,  0.21256841,\n",
       "         0.15419057,  0.20164753,  0.11628015,  0.11691215,  0.13785248,\n",
       "         0.23324299,  0.26030579,  0.091565  ,  0.21303049,  0.24175951,\n",
       "         0.01316328,  0.052455  ,  0.11679565,  0.17466053],\n",
       "       [ 0.1740896 ,  0.17214584,  0.17007282,  0.1747772 ,  0.15754633,\n",
       "         0.1894517 ,  0.2101394 ,  0.20720339,  0.26064263,  0.20930591,\n",
       "         0.17236236,  0.20961092,  0.21487273,  0.17459737,  0.18727749,\n",
       "         0.17838559,  0.16254294,  0.18655967,  0.18818165,  0.17565567,\n",
       "         0.06794347,  0.07684288,  0.14967969,  0.18023982,  0.17329555,\n",
       "         0.20444861,  0.23497647,  0.2117589 ,  0.19762199],\n",
       "       [ 0.15766309,  0.22691439,  0.20289013,  0.20027719,  0.19655158,\n",
       "         0.19016589,  0.17672722,  0.1816585 ,  0.24458624,  0.20179789,\n",
       "         0.17385537,  0.14675532,  0.16164169,  0.19681677,  0.20168438,\n",
       "         0.166393  ,  0.17897001,  0.14616459,  0.05312186,  0.26854225,\n",
       "         0.20857393,  0.2059489 ,  0.16140752,  0.20582631,  0.20769048,\n",
       "         0.18838507,  0.12182423,  0.14294821,  0.14576521],\n",
       "       [ 0.20034723,  0.19627211,  0.20001899,  0.21144763,  0.16901954,\n",
       "         0.09182983,  0.09897002,  0.15154228,  0.1073596 ,  0.03606871,\n",
       "         0.1289456 ,  0.08010722,  0.02274019,  0.17146712,  0.1688637 ,\n",
       "         0.19020116,  0.17646884,  0.22499422,  0.23806455,  0.21792369,\n",
       "         0.18101526,  0.17621201,  0.27840206,  0.15606986,  0.17505978,\n",
       "         0.32765881,  0.25452405,  0.24949065,  0.14047522],\n",
       "       [ 0.22332342,  0.23246126,  0.1950239 ,  0.20664119,  0.164745  ,\n",
       "         0.1059116 ,  0.07332238,  0.12109159,  0.10629307,  0.04379847,\n",
       "         0.16997957,  0.08920605,  0.04682744,  0.16679702,  0.17764513,\n",
       "         0.19638337,  0.17360932,  0.21906871,  0.2505778 ,  0.20663134,\n",
       "         0.1970148 ,  0.19265297,  0.2660685 ,  0.159594  ,  0.16885983,\n",
       "         0.30961488,  0.23208598,  0.22561858,  0.14764155],\n",
       "       [ 0.19566013,  0.19704664,  0.1915673 ,  0.19809486,  0.13801725,\n",
       "         0.09452553,  0.17059422,  0.15522334,  0.16348297,  0.08157069,\n",
       "         0.11203137,  0.15110276,  0.05798075,  0.16273487,  0.17613453,\n",
       "         0.20793111,  0.17838861,  0.2494009 ,  0.23057558,  0.18306306,\n",
       "         0.17406385,  0.16749514,  0.24164755,  0.16853099,  0.15706988,\n",
       "         0.32870596,  0.20557897,  0.2278339 ,  0.20040921],\n",
       "       [ 0.07805283,  0.21360448,  0.15814727,  0.15944503,  0.13811909,\n",
       "         0.16501493,  0.2092499 ,  0.16848357,  0.23860936,  0.226489  ,\n",
       "         0.1406526 ,  0.20155914,  0.23558133,  0.17655298,  0.17705244,\n",
       "         0.19434881,  0.17284337,  0.17743565,  0.1721326 ,  0.24612683,\n",
       "         0.16845507,  0.16399343,  0.19597282,  0.18153969,  0.16435117,\n",
       "         0.21043173,  0.18422529,  0.19532078,  0.18264129]])"
      ]
     },
     "execution_count": 206,
     "metadata": {},
     "output_type": "execute_result"
    }
   ],
   "source": [
    "embeddings_normal3"
   ]
  },
  {
   "cell_type": "code",
   "execution_count": 207,
   "metadata": {
    "scrolled": false
   },
   "outputs": [
    {
     "name": "stdout",
     "output_type": "stream",
     "text": [
      "0.0838193516031\n",
      "k = 0\n",
      "['on']\n",
      "k = 1\n",
      "['in back of', 'to the left of', 'to the right of', 'in the back of', 'in front of']\n",
      "k = 2\n",
      "['above', 'over']\n",
      "k = 3\n",
      "['through', 'outside', 'out']\n",
      "k = 4\n",
      "['beneath', 'below', 'under', 'underneath']\n",
      "k = 5\n",
      "['behind', 'in between', 'between', 'by']\n",
      "k = 6\n",
      "['in', 'to', 'at']\n",
      "k = 7\n",
      "['back of']\n",
      "k = 8\n",
      "['on the front of', 'on back of', 'on front of', 'on the back of']\n",
      "k = 9\n",
      "['with', 'without']\n"
     ]
    }
   ],
   "source": [
    "clusters = k_mean_clustering(embeddings_normal2, words, 10)"
   ]
  },
  {
   "cell_type": "code",
   "execution_count": 208,
   "metadata": {
    "collapsed": true
   },
   "outputs": [],
   "source": [
    "words_a = sorted(words)\n",
    "#words_a = [\n",
    "#    w\n",
    "#    for i in range(k)\n",
    "#    for w in words[embedding_indices][clusters == i]\n",
    "#]\n",
    "contexts_a = sorted(contexts)\n",
    "#contexts_a = list(set(words_contexts2[1]))\n",
    "#contexts_a =['on', 'in', 'in front of', 'next to', 'at', 'to']\n",
    "#words_a =['on', 'in', 'in front of', 'next to', 'at', 'to']\n",
    "embedding_indices = [np.where(words == w)[0][0] for w in words_a]\n",
    "embedding_dimensions = [np.where(contexts == w)[0][0] for w in contexts_a]"
   ]
  },
  {
   "cell_type": "code",
   "execution_count": 209,
   "metadata": {
    "collapsed": true
   },
   "outputs": [],
   "source": [
    "data = embeddings_normal2[embedding_indices][:,embedding_dimensions]\n",
    "#data = data / np.expand_dims(np.sum(data, 1),1)"
   ]
  },
  {
   "cell_type": "code",
   "execution_count": 210,
   "metadata": {
    "collapsed": true
   },
   "outputs": [],
   "source": [
    "def plot_matrix(data, contexts_a, words_a, filename=None):\n",
    "    fig, ax = plt.subplots()\n",
    "    fig = plt.gcf()\n",
    "    fig.set_size_inches(8, 11)\n",
    "    heatmap = ax.pcolor(data, cmap=matplotlib.cm.BuPu_r, alpha=0.8)\n",
    "\n",
    "    ax.set_frame_on(False)\n",
    "    ax.set_xticks(np.arange(len(contexts_a)) + 0.5, minor=False)\n",
    "    ax.set_yticks(np.arange(len(words_a)) + 0.5, minor=False)\n",
    "\n",
    "    # want a more natural, table-like display\n",
    "    ax.invert_yaxis()\n",
    "    ax.set_aspect('equal')\n",
    "    ax.xaxis.tick_top()\n",
    "\n",
    "    ax.set_xticklabels([''+w+' (contexts)' for w in contexts_a], minor=False)\n",
    "    ax.set_yticklabels([w for w in words_a], minor=False)\n",
    "    plt.xticks(rotation=90)\n",
    "\n",
    "    #for y in range(data.shape[0]):\n",
    "    #    for x in range(data.shape[1]):\n",
    "    #        plt.text(x + 0.5, y + 0.5, '{:.1f}'.format(data[y, x]),\n",
    "    #                 horizontalalignment='center',\n",
    "    #                 verticalalignment='center',\n",
    "    #                 fontsize='4',\n",
    "    #                 alpha=0.8,\n",
    "    #                 )\n",
    "\n",
    "    if filename is not None:\n",
    "        plt.savefig(filename, bbox_inches='tight')\n",
    "    plt.show()"
   ]
  },
  {
   "cell_type": "code",
   "execution_count": 211,
   "metadata": {},
   "outputs": [
    {
     "data": {
      "image/png": "[encoded data removed]",
      "text/plain": [
       "<matplotlib.figure.Figure at 0x7f07662e05f8>"
      ]
     },
     "metadata": {},
     "output_type": "display_data"
    }
   ],
   "source": [
    "plot_matrix(data, contexts_a, words_a, 'overall_matrix.pdf')"
   ]
  },
  {
   "cell_type": "code",
   "execution_count": 217,
   "metadata": {},
   "outputs": [
    {
     "data": {
      "text/plain": [
       "['above',\n",
       " 'at',\n",
       " 'back of',\n",
       " 'behind',\n",
       " 'below',\n",
       " 'beneath',\n",
       " 'between',\n",
       " 'by',\n",
       " 'in',\n",
       " 'in back of',\n",
       " 'in between',\n",
       " 'in front of',\n",
       " 'in the back of',\n",
       " 'on',\n",
       " 'on back of',\n",
       " 'on front of',\n",
       " 'on the back of',\n",
       " 'on the front of',\n",
       " 'out',\n",
       " 'outside',\n",
       " 'over',\n",
       " 'through',\n",
       " 'to',\n",
       " 'to the left of',\n",
       " 'to the right of',\n",
       " 'under',\n",
       " 'underneath',\n",
       " 'with',\n",
       " 'without']"
      ]
     },
     "execution_count": 217,
     "metadata": {},
     "output_type": "execute_result"
    }
   ],
   "source": [
    "contexts_a"
   ]
  },
  {
   "cell_type": "code",
   "execution_count": 222,
   "metadata": {},
   "outputs": [
    {
     "data": {
      "image/png": "[encoded data removed]",
      "text/plain": [
       "<matplotlib.figure.Figure at 0x7f0773212a58>"
      ]
     },
     "metadata": {},
     "output_type": "display_data"
    }
   ],
   "source": [
    "plot_matrix(\n",
    "    data[[np.where(np.array(sorted(words)) == w)[0][0] for w in ['above', 'over']]][:,[np.where(np.array(sorted(contexts)) == w)[0][0] for w in contexts_a]],\n",
    "    contexts_a,\n",
    "    ['above', 'over'],\n",
    "    'above-over.pdf'\n",
    ")"
   ]
  },
  {
   "cell_type": "code",
   "execution_count": 224,
   "metadata": {},
   "outputs": [
    {
     "data": {
      "image/png": "[encoded data removed]",
      "text/plain": [
       "<matplotlib.figure.Figure at 0x7f0773284d30>"
      ]
     },
     "metadata": {},
     "output_type": "display_data"
    }
   ],
   "source": [
    "plot_matrix(\n",
    "    data[[np.where(np.array(sorted(words)) == w)[0][0] for w in ['beneath', 'below', 'under', 'underneath']]][:,[np.where(np.array(sorted(contexts)) == w)[0][0] for w in contexts_a]],\n",
    "    contexts_a,\n",
    "    ['beneath', 'below', 'under', 'underneath'],\n",
    "    'under-below.pdf'\n",
    ")"
   ]
  },
  {
   "cell_type": "code",
   "execution_count": 213,
   "metadata": {
    "scrolled": false
   },
   "outputs": [
    {
     "data": {
      "image/png": "[encoded data removed]",
      "text/plain": [
       "<matplotlib.figure.Figure at 0x7f07661e0e10>"
      ]
     },
     "metadata": {},
     "output_type": "display_data"
    },
    {
     "data": {
      "image/png": "[encoded data removed]",
      "text/plain": [
       "<matplotlib.figure.Figure at 0x7f0766178d68>"
      ]
     },
     "metadata": {},
     "output_type": "display_data"
    },
    {
     "data": {
      "image/png": "[encoded data removed]",
      "text/plain": [
       "<matplotlib.figure.Figure at 0x7f0763ecdf28>"
      ]
     },
     "metadata": {},
     "output_type": "display_data"
    },
    {
     "data": {
      "image/png": "[encoded data removed]",
      "text/plain": [
       "<matplotlib.figure.Figure at 0x7f0767ab8da0>"
      ]
     },
     "metadata": {},
     "output_type": "display_data"
    },
    {
     "data": {
      "image/png": "[encoded data removed]",
      "text/plain": [
       "<matplotlib.figure.Figure at 0x7f07675c4828>"
      ]
     },
     "metadata": {},
     "output_type": "display_data"
    },
    {
     "data": {
      "image/png": "[encoded data removed]",
      "text/plain": [
       "<matplotlib.figure.Figure at 0x7f076ce1f9e8>"
      ]
     },
     "metadata": {},
     "output_type": "display_data"
    },
    {
     "data": {
      "image/png": "[encoded data removed]",
      "text/plain": [
       "<matplotlib.figure.Figure at 0x7f075ff93048>"
      ]
     },
     "metadata": {},
     "output_type": "display_data"
    },
    {
     "data": {
      "image/png": "[encoded data removed]",
      "text/plain": [
       "<matplotlib.figure.Figure at 0x7f07678ab9b0>"
      ]
     },
     "metadata": {},
     "output_type": "display_data"
    },
    {
     "data": {
      "image/png": "[encoded data removed]",
      "text/plain": [
       "<matplotlib.figure.Figure at 0x7f0767552c50>"
      ]
     },
     "metadata": {},
     "output_type": "display_data"
    },
    {
     "data": {
      "image/png": "[encoded data removed]",
      "text/plain": [
       "<matplotlib.figure.Figure at 0x7f07670b5a90>"
      ]
     },
     "metadata": {},
     "output_type": "display_data"
    }
   ],
   "source": [
    "k=10\n",
    "for i in range(k):\n",
    "    words_a = words[clusters == i]\n",
    "    plot_matrix(\n",
    "        data[[np.where(words == w)[0][0] for w in words_a]][:,[np.where(contexts == w)[0][0] for w in contexts_a]],\n",
    "        contexts_a,\n",
    "        words_a,\n",
    "    )"
   ]
  },
  {
   "cell_type": "code",
   "execution_count": null,
   "metadata": {
    "collapsed": true
   },
   "outputs": [],
   "source": [
    "simple_classification = [simple_classes[w] for w in words]"
   ]
  },
  {
   "cell_type": "code",
   "execution_count": null,
   "metadata": {
    "collapsed": true
   },
   "outputs": [],
   "source": [
    "homogeneity_completeness_v_measure(simple_classification, clusters)"
   ]
  },
  {
   "cell_type": "code",
   "execution_count": null,
   "metadata": {
    "collapsed": true
   },
   "outputs": [],
   "source": [
    "for i in range(k):\n",
    "    words_a = words[clusters == i]\n",
    "    #print(i, words_a)\n",
    "    words_a = [w for w in words_a if simple_classes_set[simple_classes[w]] in simple_classes_set2]\n",
    "    print(i, [simple_classes_set[simple_classes[w]] for w in words_a])\n",
    "    "
   ]
  },
  {
   "cell_type": "code",
   "execution_count": null,
   "metadata": {
    "collapsed": true
   },
   "outputs": [],
   "source": [
    "def visualise_embeddings(X, y):\n",
    "    # Scale and visualize the embedding vectors\n",
    "    def plot_embedding(X, title=None):\n",
    "        x_min, x_max = np.min(X, 0), np.max(X, 0)\n",
    "        X = (X - x_min) / (x_max - x_min)\n",
    "        plt.figure()\n",
    "        ax = plt.subplot(111)\n",
    "        for i in range(X.shape[0]):\n",
    "            if simple_classes_set[simple_classes[y[i]]] not in simple_classes_set2:\n",
    "                continue\n",
    "            plt.text(X[i, 0], X[i, 1], y[i],\n",
    "                     color=plt.cm.tab20(simple_classes_set2.index(simple_classes_set[simple_classes[y[i]]])/len(simple_classes_set2)),\n",
    "                     fontdict={\n",
    "                         #'weight': 'bold',\n",
    "                         'size': 8\n",
    "                     }\n",
    "                    )\n",
    "            plt.scatter(X[i, 0], X[i, 1], #y[i],\n",
    "                     color=plt.cm.tab20(simple_classes_set2.index(simple_classes_set[simple_classes[y[i]]])/len(simple_classes_set2)),\n",
    "                    )\n",
    "\n",
    "\n",
    "        plt.xticks([]), plt.yticks([])\n",
    "        if title is not None:\n",
    "            plt.title(title)\n",
    "\n",
    "\n",
    "    # t-SNE embedding of the digits dataset\n",
    "    print(\"Computing t-SNE embedding\")\n",
    "    tsne = manifold.TSNE(n_components=2, init='pca', random_state=0)\n",
    "    t0 = time()\n",
    "    X_tsne = tsne.fit_transform(X)\n",
    "\n",
    "    plot_embedding(X_tsne,\n",
    "                   \"t-SNE embedding of the digits (time %.2fs)\" %\n",
    "                   (time() - t0))\n",
    "\n",
    "    plt.show()\n",
    "\n",
    "    n_neighbors = 4\n",
    "\n",
    "    print(\"Computing Isomap embedding\")\n",
    "    t0 = time()\n",
    "    X_iso = manifold.Isomap(n_neighbors, n_components=2).fit_transform(X)\n",
    "    print(\"Done.\")\n",
    "    plot_embedding(X_iso,\n",
    "                   \"Isomap projection of the digits (time %.2fs)\" %\n",
    "                   (time() - t0))\n",
    "\n",
    "\n",
    "    print(\"Computing Totally Random Trees embedding\")\n",
    "    hasher = ensemble.RandomTreesEmbedding(n_estimators=200, random_state=0,\n",
    "                                           max_depth=5)\n",
    "    t0 = time()\n",
    "    X_transformed = hasher.fit_transform(X)\n",
    "    pca = decomposition.TruncatedSVD(n_components=2)\n",
    "    X_reduced = pca.fit_transform(X_transformed)\n",
    "\n",
    "    plot_embedding(X_reduced,\n",
    "                   \"Random forest embedding of the digits (time %.2fs)\" %\n",
    "                   (time() - t0))\n",
    "    \n",
    "\n",
    "visualise_embeddings(X = embeddings_normal2, y = np.array(words))\n",
    "#y = np.array([simple_classes_set[simple_classes[w]] for w in words])"
   ]
  },
  {
   "cell_type": "code",
   "execution_count": 117,
   "metadata": {
    "collapsed": true
   },
   "outputs": [],
   "source": [
    "# intrinsic evaluations:\n",
    "dimensions = [\n",
    "    ('left', 'right'),\n",
    "    ('above', 'below'),\n",
    "    #('over', 'under'),\n",
    "    #('above', 'under'),\n",
    "    #('over', 'below'),\n",
    "    ('front', 'back'),\n",
    "    ('with', 'without'),\n",
    "    ('in', 'out'),\n",
    "    ('up', 'down'),\n",
    "    #('upward', 'downward'),\n",
    "    ('away', 'near'),\n",
    "]\n",
    "paris = [\n",
    "    (w1, w2)\n",
    "    for d in dimensions\n",
    "    for w1, w2 in product(d, d)\n",
    "    if w1 != w2 \n",
    "]\n",
    "\n",
    "test_suit1 = list({\n",
    "    test\n",
    "    for pair1, pair2 in product(paris,paris)\n",
    "    for test in [(pair1[0], pair1[1], pair2[0], pair2[1]), (pair1[1], pair1[0], pair2[1], pair2[0])]\n",
    "    if pair1[0] not in pair2\n",
    "    if pair1[1] not in pair2\n",
    "})\n",
    "\n",
    "test_suit2 = list({\n",
    "    (w_alt1,w_alt2,w_alt3,w4,)\n",
    "    for w1,w2,w3,w4 in test_suit1\n",
    "    for w_alt1 in simple2composit[w1]\n",
    "    for w_alt2 in simple2composit[w2]\n",
    "    for w_alt3 in simple2composit[w3]\n",
    "})\n",
    "\n",
    "test_suit1_lexicon = set(w for test in test_suit1 for w in test)\n",
    "test_suit2_lexicon = set(w for test in test_suit2 for w in test)"
   ]
  },
  {
   "cell_type": "code",
   "execution_count": 118,
   "metadata": {},
   "outputs": [
    {
     "data": {
      "text/plain": [
       "{'above',\n",
       " 'back',\n",
       " 'below',\n",
       " 'front',\n",
       " 'in',\n",
       " 'left',\n",
       " 'out',\n",
       " 'right',\n",
       " 'with',\n",
       " 'without'}"
      ]
     },
     "execution_count": 118,
     "metadata": {},
     "output_type": "execute_result"
    }
   ],
   "source": [
    "set([composit2simple[w] for q in results2_inspect for w in q])"
   ]
  },
  {
   "cell_type": "code",
   "execution_count": 119,
   "metadata": {},
   "outputs": [
    {
     "data": {
      "text/plain": [
       "(168, 90580, 14, 98)"
      ]
     },
     "execution_count": 119,
     "metadata": {},
     "output_type": "execute_result"
    }
   ],
   "source": [
    "len(test_suit1), len(test_suit2), len(test_suit1_lexicon), len(test_suit2_lexicon)"
   ]
  },
  {
   "cell_type": "code",
   "execution_count": 120,
   "metadata": {
    "collapsed": true
   },
   "outputs": [],
   "source": [
    "def analogy(pos, neg, embeddings, lexicon, lexicon_filter=None):\n",
    "    exclude_filter = [w for w in pos]+[w for w in neg]\n",
    "    if lexicon_filter is not None:\n",
    "        exclude_filter = set(exclude_filter+list(set(lexicon)-set(lexicon_filter)))\n",
    "    \n",
    "    vec = np.sum([embeddings[lexicon == w] for w in pos],0) - np.sum([embeddings[lexicon == w] for w in neg],0)\n",
    "    vec = vec.flatten()\n",
    "    vec = vec/np.linalg.norm(vec)\n",
    "    vec = np.expand_dims(vec, 1)\n",
    "    results = lexicon[np.argsort(np.dot(embeddings, vec).flatten())][::-1] \n",
    "    for w in exclude_filter:\n",
    "        results = results[results != w]\n",
    "    return results[0]"
   ]
  },
  {
   "cell_type": "code",
   "execution_count": 121,
   "metadata": {},
   "outputs": [
    {
     "data": {
      "text/plain": [
       "'above'"
      ]
     },
     "execution_count": 121,
     "metadata": {},
     "output_type": "execute_result"
    }
   ],
   "source": [
    "analogy(['to the left of', 'over'], ['to the right of'], embeddings_normal3, words)\n"
   ]
  },
  {
   "cell_type": "code",
   "execution_count": 122,
   "metadata": {},
   "outputs": [
    {
     "data": {
      "text/plain": [
       "'above'"
      ]
     },
     "execution_count": 122,
     "metadata": {},
     "output_type": "execute_result"
    }
   ],
   "source": [
    "analogy(['left', 'over'], ['right'], embeddings_glove, spatial_lexicon)\n"
   ]
  },
  {
   "cell_type": "code",
   "execution_count": 123,
   "metadata": {},
   "outputs": [
    {
     "data": {
      "text/plain": [
       "(61, 168, 0.3630952380952381)"
      ]
     },
     "execution_count": 123,
     "metadata": {},
     "output_type": "execute_result"
    }
   ],
   "source": [
    "results = [\n",
    "    analogy([w1, w3], [w2], embeddings_glove, spatial_lexicon, test_suit1_lexicon) == w4\n",
    "    for w1,w2,w3,w4 in test_suit1\n",
    "    if w1 in spatial_lexicon\n",
    "    if w2 in spatial_lexicon\n",
    "    if w3 in spatial_lexicon\n",
    "    if w4 in spatial_lexicon\n",
    "]\n",
    "\n",
    "sum(results),len(results), sum(results)/len(results)"
   ]
  },
  {
   "cell_type": "code",
   "execution_count": 124,
   "metadata": {},
   "outputs": [
    {
     "data": {
      "text/plain": [
       "14"
      ]
     },
     "execution_count": 124,
     "metadata": {},
     "output_type": "execute_result"
    }
   ],
   "source": [
    "len(set(spatial_lexicon)-(set(spatial_lexicon)-set([w for d in dimensions for w in d])))"
   ]
  },
  {
   "cell_type": "code",
   "execution_count": 125,
   "metadata": {},
   "outputs": [
    {
     "data": {
      "text/plain": [
       "set()"
      ]
     },
     "execution_count": 125,
     "metadata": {},
     "output_type": "execute_result"
    }
   ],
   "source": [
    "set([w for d in dimensions for w in d])-set(spatial_lexicon)"
   ]
  },
  {
   "cell_type": "code",
   "execution_count": 126,
   "metadata": {
    "scrolled": true
   },
   "outputs": [
    {
     "data": {
      "text/plain": [
       "array([['near', 'away', 'back', 'front'],\n",
       "       ['above', 'below', 'right', 'left'],\n",
       "       ['near', 'away', 'left', 'right'],\n",
       "       ['out', 'in', 'up', 'down'],\n",
       "       ['near', 'away', 'out', 'in'],\n",
       "       ['down', 'up', 'right', 'left'],\n",
       "       ['front', 'back', 'below', 'above'],\n",
       "       ['with', 'without', 'right', 'left'],\n",
       "       ['out', 'in', 'below', 'above'],\n",
       "       ['up', 'down', 'back', 'front'],\n",
       "       ['front', 'back', 'right', 'left'],\n",
       "       ['up', 'down', 'out', 'in'],\n",
       "       ['without', 'with', 'left', 'right'],\n",
       "       ['below', 'above', 'front', 'back'],\n",
       "       ['left', 'right', 'down', 'up'],\n",
       "       ['away', 'near', 'down', 'up'],\n",
       "       ['up', 'down', 'right', 'left'],\n",
       "       ['below', 'above', 'up', 'down'],\n",
       "       ['in', 'out', 'right', 'left'],\n",
       "       ['down', 'up', 'without', 'with'],\n",
       "       ['below', 'above', 'right', 'left'],\n",
       "       ['away', 'near', 'left', 'right'],\n",
       "       ['down', 'up', 'back', 'front'],\n",
       "       ['above', 'below', 'left', 'right'],\n",
       "       ['in', 'out', 'without', 'with'],\n",
       "       ['back', 'front', 'left', 'right'],\n",
       "       ['above', 'below', 'down', 'up'],\n",
       "       ['out', 'in', 'front', 'back'],\n",
       "       ['out', 'in', 'left', 'right'],\n",
       "       ['right', 'left', 'without', 'with'],\n",
       "       ['up', 'down', 'below', 'above'],\n",
       "       ['near', 'away', 'right', 'left'],\n",
       "       ['without', 'with', 'below', 'above'],\n",
       "       ['right', 'left', 'below', 'above'],\n",
       "       ['above', 'below', 'without', 'with'],\n",
       "       ['in', 'out', 'back', 'front'],\n",
       "       ['below', 'above', 'left', 'right'],\n",
       "       ['without', 'with', 'right', 'left'],\n",
       "       ['down', 'up', 'above', 'below'],\n",
       "       ['front', 'back', 'left', 'right'],\n",
       "       ['away', 'near', 'in', 'out'],\n",
       "       ['out', 'in', 'down', 'up'],\n",
       "       ['down', 'up', 'left', 'right'],\n",
       "       ['near', 'away', 'below', 'above'],\n",
       "       ['with', 'without', 'left', 'right'],\n",
       "       ['above', 'below', 'back', 'front'],\n",
       "       ['back', 'front', 'down', 'up'],\n",
       "       ['right', 'left', 'down', 'up'],\n",
       "       ['left', 'right', 'without', 'with'],\n",
       "       ['away', 'near', 'right', 'left'],\n",
       "       ['left', 'right', 'below', 'above'],\n",
       "       ['with', 'without', 'out', 'in'],\n",
       "       ['back', 'front', 'right', 'left'],\n",
       "       ['up', 'down', 'left', 'right'],\n",
       "       ['down', 'up', 'out', 'in'],\n",
       "       ['right', 'left', 'back', 'front'],\n",
       "       ['in', 'out', 'left', 'right'],\n",
       "       ['front', 'back', 'out', 'in'],\n",
       "       ['without', 'with', 'above', 'below'],\n",
       "       ['left', 'right', 'back', 'front'],\n",
       "       ['out', 'in', 'right', 'left']],\n",
       "      dtype='<U7')"
      ]
     },
     "execution_count": 126,
     "metadata": {},
     "output_type": "execute_result"
    }
   ],
   "source": [
    "results_inspect = np.array([\n",
    "    (w1,w2,w3,w4)\n",
    "    for w1,w2,w3,w4 in test_suit1\n",
    "    if w1 in spatial_lexicon\n",
    "    if w2 in spatial_lexicon\n",
    "    if w3 in spatial_lexicon\n",
    "    if w4 in spatial_lexicon\n",
    "])[results]\n",
    "results_inspect"
   ]
  },
  {
   "cell_type": "code",
   "execution_count": 127,
   "metadata": {},
   "outputs": [
    {
     "data": {
      "text/plain": [
       "(78, 168, 0.4642857142857143)"
      ]
     },
     "execution_count": 127,
     "metadata": {},
     "output_type": "execute_result"
    }
   ],
   "source": [
    "results_glov2 = [\n",
    "    analogy([w1, w3], [w2], embeddings_glove2, spatial_lexicon, test_suit1_lexicon) == w4\n",
    "    for w1,w2,w3,w4 in test_suit1\n",
    "    if w1 in spatial_lexicon\n",
    "    if w2 in spatial_lexicon\n",
    "    if w3 in spatial_lexicon\n",
    "    if w4 in spatial_lexicon\n",
    "]\n",
    "\n",
    "sum(results_glov2),len(results_glov2), sum(results_glov2)/len(results_glov2)"
   ]
  },
  {
   "cell_type": "code",
   "execution_count": 128,
   "metadata": {},
   "outputs": [
    {
     "data": {
      "text/plain": [
       "(122, 168, 0.7261904761904762)"
      ]
     },
     "execution_count": 128,
     "metadata": {},
     "output_type": "execute_result"
    }
   ],
   "source": [
    "results_lm = [\n",
    "    analogy([w1, w3], [w2], embeddings_lm, spatial_lexicon, test_suit1_lexicon) == w4\n",
    "    for w1,w2,w3,w4 in test_suit1\n",
    "    if w1 in spatial_lexicon\n",
    "    if w2 in spatial_lexicon\n",
    "    if w3 in spatial_lexicon\n",
    "    if w4 in spatial_lexicon\n",
    "]\n",
    "\n",
    "sum(results_lm),len(results_lm), sum(results_lm)/len(results_lm)"
   ]
  },
  {
   "cell_type": "code",
   "execution_count": 112,
   "metadata": {},
   "outputs": [
    {
     "data": {
      "text/plain": [
       "(73, 80)"
      ]
     },
     "execution_count": 112,
     "metadata": {},
     "output_type": "execute_result"
    }
   ],
   "source": [
    "sum(results_lm), len(results_lm)"
   ]
  },
  {
   "cell_type": "code",
   "execution_count": 113,
   "metadata": {},
   "outputs": [
    {
     "data": {
      "text/plain": [
       "array([['out', 'in', 'left', 'right'],\n",
       "       ['below', 'above', 'in', 'out'],\n",
       "       ['without', 'with', 'in', 'out'],\n",
       "       ['right', 'left', 'out', 'in'],\n",
       "       ['out', 'in', 'back', 'front'],\n",
       "       ['right', 'left', 'without', 'with'],\n",
       "       ['back', 'front', 'above', 'below'],\n",
       "       ['above', 'below', 'with', 'without'],\n",
       "       ['back', 'front', 'with', 'without'],\n",
       "       ['above', 'below', 'back', 'front'],\n",
       "       ['with', 'without', 'left', 'right'],\n",
       "       ['right', 'left', 'in', 'out'],\n",
       "       ['in', 'out', 'right', 'left'],\n",
       "       ['above', 'below', 'right', 'left'],\n",
       "       ['above', 'below', 'front', 'back'],\n",
       "       ['with', 'without', 'below', 'above'],\n",
       "       ['in', 'out', 'with', 'without'],\n",
       "       ['right', 'left', 'with', 'without'],\n",
       "       ['below', 'above', 'back', 'front'],\n",
       "       ['in', 'out', 'back', 'front'],\n",
       "       ['below', 'above', 'right', 'left'],\n",
       "       ['in', 'out', 'below', 'above'],\n",
       "       ['back', 'front', 'out', 'in'],\n",
       "       ['below', 'above', 'without', 'with'],\n",
       "       ['out', 'in', 'above', 'below'],\n",
       "       ['front', 'back', 'with', 'without'],\n",
       "       ['left', 'right', 'in', 'out'],\n",
       "       ['out', 'in', 'with', 'without'],\n",
       "       ['back', 'front', 'without', 'with'],\n",
       "       ['back', 'front', 'below', 'above'],\n",
       "       ['with', 'without', 'above', 'below'],\n",
       "       ['front', 'back', 'below', 'above'],\n",
       "       ['without', 'with', 'below', 'above'],\n",
       "       ['left', 'right', 'without', 'with'],\n",
       "       ['with', 'without', 'front', 'back'],\n",
       "       ['left', 'right', 'below', 'above'],\n",
       "       ['without', 'with', 'back', 'front'],\n",
       "       ['with', 'without', 'back', 'front'],\n",
       "       ['without', 'with', 'front', 'back'],\n",
       "       ['with', 'without', 'out', 'in'],\n",
       "       ['with', 'without', 'right', 'left'],\n",
       "       ['right', 'left', 'below', 'above'],\n",
       "       ['above', 'below', 'in', 'out'],\n",
       "       ['above', 'below', 'left', 'right'],\n",
       "       ['back', 'front', 'right', 'left'],\n",
       "       ['left', 'right', 'above', 'below'],\n",
       "       ['without', 'with', 'out', 'in'],\n",
       "       ['out', 'in', 'right', 'left'],\n",
       "       ['right', 'left', 'front', 'back'],\n",
       "       ['in', 'out', 'above', 'below'],\n",
       "       ['back', 'front', 'left', 'right'],\n",
       "       ['out', 'in', 'below', 'above'],\n",
       "       ['right', 'left', 'back', 'front'],\n",
       "       ['in', 'out', 'left', 'right'],\n",
       "       ['out', 'in', 'without', 'with'],\n",
       "       ['in', 'out', 'without', 'with'],\n",
       "       ['above', 'below', 'without', 'with'],\n",
       "       ['left', 'right', 'with', 'without'],\n",
       "       ['below', 'above', 'left', 'right'],\n",
       "       ['below', 'above', 'with', 'without'],\n",
       "       ['front', 'back', 'right', 'left'],\n",
       "       ['front', 'back', 'above', 'below'],\n",
       "       ['front', 'back', 'without', 'with'],\n",
       "       ['left', 'right', 'back', 'front'],\n",
       "       ['left', 'right', 'out', 'in'],\n",
       "       ['without', 'with', 'right', 'left'],\n",
       "       ['without', 'with', 'above', 'below'],\n",
       "       ['front', 'back', 'left', 'right'],\n",
       "       ['without', 'with', 'left', 'right'],\n",
       "       ['out', 'in', 'front', 'back'],\n",
       "       ['right', 'left', 'above', 'below'],\n",
       "       ['back', 'front', 'in', 'out'],\n",
       "       ['left', 'right', 'front', 'back']],\n",
       "      dtype='<U7')"
      ]
     },
     "execution_count": 113,
     "metadata": {},
     "output_type": "execute_result"
    }
   ],
   "source": [
    "results_inspect_lm = np.array([\n",
    "    (w1,w2,w3,w4)\n",
    "    for w1,w2,w3,w4 in test_suit1\n",
    "    if w1 in spatial_lexicon\n",
    "    if w2 in spatial_lexicon\n",
    "    if w3 in spatial_lexicon\n",
    "    if w4 in spatial_lexicon\n",
    "])[results_lm]\n",
    "results_inspect_lm"
   ]
  },
  {
   "cell_type": "code",
   "execution_count": 114,
   "metadata": {},
   "outputs": [
    {
     "data": {
      "text/plain": [
       "(177, 216, 0.8194444444444444)"
      ]
     },
     "execution_count": 114,
     "metadata": {},
     "output_type": "execute_result"
    }
   ],
   "source": [
    "results2 = [\n",
    "    composit2simple[analogy([w1, w3], [w2], embeddings_normal2, words, test_suit2_lexicon)] == w4\n",
    "    for w1,w2,w3,w4 in test_suit2\n",
    "    if w1 in words\n",
    "    if w2 in words\n",
    "    if w3 in words\n",
    "    if w4 in words\n",
    "]\n",
    "sum(results2),len(results2), sum(results2)/len(results2)"
   ]
  },
  {
   "cell_type": "code",
   "execution_count": 115,
   "metadata": {},
   "outputs": [
    {
     "data": {
      "text/plain": [
       "array([['on front of', 'on the back of', 'out', 'in'],\n",
       "       ['in the back of', 'on front of', 'out', 'in'],\n",
       "       ['back of', 'in front of', 'out', 'in'],\n",
       "       ['in front of', 'in back of', 'above', 'below'],\n",
       "       ['in the back of', 'on front of', 'below', 'above'],\n",
       "       ['to the left of', 'to the right of', 'below', 'above'],\n",
       "       ['on back of', 'in front of', 'with', 'without'],\n",
       "       ['in the back of', 'on front of', 'with', 'without'],\n",
       "       ['to the left of', 'to the right of', 'with', 'without'],\n",
       "       ['on front of', 'in the back of', 'out', 'in'],\n",
       "       ['back of', 'on the front of', 'below', 'above'],\n",
       "       ['on back of', 'on the front of', 'out', 'in'],\n",
       "       ['on the front of', 'in the back of', 'without', 'with'],\n",
       "       ['on back of', 'on front of', 'in', 'out'],\n",
       "       ['in front of', 'in the back of', 'with', 'without'],\n",
       "       ['in back of', 'on front of', 'above', 'below'],\n",
       "       ['in the back of', 'in front of', 'in', 'out'],\n",
       "       ['on front of', 'in back of', 'out', 'in'],\n",
       "       ['on the back of', 'in front of', 'below', 'above'],\n",
       "       ['on front of', 'back of', 'with', 'without'],\n",
       "       ['in front of', 'on back of', 'above', 'below'],\n",
       "       ['on front of', 'in back of', 'above', 'below'],\n",
       "       ['in back of', 'in front of', 'below', 'above'],\n",
       "       ['on back of', 'in front of', 'without', 'with'],\n",
       "       ['in the back of', 'on front of', 'in', 'out'],\n",
       "       ['on front of', 'on the back of', 'without', 'with'],\n",
       "       ['on the back of', 'in front of', 'out', 'in'],\n",
       "       ['in front of', 'back of', 'out', 'in'],\n",
       "       ['on the front of', 'back of', 'out', 'in'],\n",
       "       ['on the back of', 'in front of', 'without', 'with'],\n",
       "       ['in back of', 'on front of', 'in', 'out'],\n",
       "       ['in back of', 'on the front of', 'in', 'out'],\n",
       "       ['in the back of', 'in front of', 'out', 'in'],\n",
       "       ['on front of', 'in back of', 'with', 'without'],\n",
       "       ['on the front of', 'on back of', 'out', 'in'],\n",
       "       ['on back of', 'on the front of', 'above', 'below'],\n",
       "       ['on the front of', 'in the back of', 'out', 'in'],\n",
       "       ['on back of', 'in front of', 'below', 'above'],\n",
       "       ['on front of', 'on the back of', 'above', 'below'],\n",
       "       ['in back of', 'on front of', 'out', 'in'],\n",
       "       ['in front of', 'on back of', 'below', 'above'],\n",
       "       ['with', 'without', 'out', 'in'],\n",
       "       ['on back of', 'on front of', 'below', 'above'],\n",
       "       ['in front of', 'on the back of', 'with', 'without'],\n",
       "       ['back of', 'on the front of', 'in', 'out'],\n",
       "       ['above', 'below', 'without', 'with'],\n",
       "       ['on front of', 'in the back of', 'without', 'with'],\n",
       "       ['on the back of', 'on the front of', 'without', 'with'],\n",
       "       ['on the back of', 'in front of', 'with', 'without'],\n",
       "       ['back of', 'in front of', 'below', 'above'],\n",
       "       ['on back of', 'on front of', 'without', 'with'],\n",
       "       ['on the front of', 'in back of', 'below', 'above'],\n",
       "       ['out', 'in', 'with', 'without'],\n",
       "       ['below', 'above', 'without', 'with'],\n",
       "       ['on front of', 'on the back of', 'below', 'above'],\n",
       "       ['on front of', 'in the back of', 'above', 'below'],\n",
       "       ['back of', 'in front of', 'in', 'out'],\n",
       "       ['in the back of', 'in front of', 'without', 'with'],\n",
       "       ['in front of', 'on the back of', 'above', 'below'],\n",
       "       ['in the back of', 'in front of', 'above', 'below'],\n",
       "       ['in front of', 'on back of', 'out', 'in'],\n",
       "       ['in front of', 'back of', 'above', 'below'],\n",
       "       ['in front of', 'back of', 'without', 'with'],\n",
       "       ['in front of', 'in back of', 'out', 'in'],\n",
       "       ['on front of', 'in the back of', 'below', 'above'],\n",
       "       ['in back of', 'in front of', 'in', 'out'],\n",
       "       ['in the back of', 'in front of', 'with', 'without'],\n",
       "       ['in front of', 'on back of', 'without', 'with'],\n",
       "       ['in back of', 'in front of', 'above', 'below'],\n",
       "       ['on the front of', 'on the back of', 'above', 'below'],\n",
       "       ['on the back of', 'on front of', 'out', 'in'],\n",
       "       ['on front of', 'in back of', 'below', 'above'],\n",
       "       ['in the back of', 'on front of', 'above', 'below'],\n",
       "       ['on front of', 'back of', 'out', 'in'],\n",
       "       ['in front of', 'in the back of', 'below', 'above'],\n",
       "       ['without', 'with', 'above', 'below'],\n",
       "       ['in back of', 'on front of', 'below', 'above'],\n",
       "       ['in front of', 'in the back of', 'above', 'below'],\n",
       "       ['to the left of', 'to the right of', 'without', 'with'],\n",
       "       ['with', 'without', 'above', 'below'],\n",
       "       ['in front of', 'in the back of', 'out', 'in'],\n",
       "       ['in back of', 'in front of', 'out', 'in'],\n",
       "       ['in back of', 'on the front of', 'above', 'below'],\n",
       "       ['on the back of', 'on front of', 'above', 'below'],\n",
       "       ['to the left of', 'to the right of', 'above', 'below'],\n",
       "       ['on the front of', 'on the back of', 'out', 'in'],\n",
       "       ['in front of', 'back of', 'with', 'without'],\n",
       "       ['out', 'in', 'without', 'with'],\n",
       "       ['out', 'in', 'above', 'below'],\n",
       "       ['on the back of', 'on front of', 'in', 'out'],\n",
       "       ['on the front of', 'on the back of', 'without', 'with'],\n",
       "       ['in front of', 'on back of', 'with', 'without'],\n",
       "       ['in front of', 'on the back of', 'below', 'above'],\n",
       "       ['on the back of', 'on the front of', 'below', 'above'],\n",
       "       ['on front of', 'back of', 'without', 'with'],\n",
       "       ['in back of', 'in front of', 'with', 'without'],\n",
       "       ['in back of', 'in front of', 'without', 'with'],\n",
       "       ['on the front of', 'in the back of', 'with', 'without'],\n",
       "       ['on back of', 'on front of', 'above', 'below'],\n",
       "       ['with', 'without', 'below', 'above'],\n",
       "       ['in front of', 'in back of', 'below', 'above'],\n",
       "       ['on front of', 'on back of', 'with', 'without'],\n",
       "       ['back of', 'on the front of', 'above', 'below'],\n",
       "       ['in the back of', 'in front of', 'below', 'above'],\n",
       "       ['in front of', 'in the back of', 'without', 'with'],\n",
       "       ['back of', 'on front of', 'in', 'out'],\n",
       "       ['on back of', 'in front of', 'out', 'in'],\n",
       "       ['on the front of', 'in back of', 'above', 'below'],\n",
       "       ['in front of', 'in back of', 'with', 'without'],\n",
       "       ['back of', 'in front of', 'with', 'without'],\n",
       "       ['back of', 'on front of', 'below', 'above'],\n",
       "       ['on the back of', 'on front of', 'below', 'above'],\n",
       "       ['on the front of', 'in back of', 'with', 'without'],\n",
       "       ['on back of', 'on the front of', 'with', 'without'],\n",
       "       ['in front of', 'on the back of', 'without', 'with'],\n",
       "       ['in the back of', 'on the front of', 'without', 'with'],\n",
       "       ['on front of', 'on back of', 'above', 'below'],\n",
       "       ['in the back of', 'on the front of', 'out', 'in'],\n",
       "       ['without', 'with', 'in', 'out'],\n",
       "       ['on the back of', 'on front of', 'with', 'without'],\n",
       "       ['above', 'below', 'with', 'without'],\n",
       "       ['on the back of', 'on the front of', 'in', 'out'],\n",
       "       ['above', 'below', 'in', 'out'],\n",
       "       ['on back of', 'on front of', 'with', 'without'],\n",
       "       ['on front of', 'on back of', 'without', 'with'],\n",
       "       ['in back of', 'on front of', 'without', 'with'],\n",
       "       ['in the back of', 'on front of', 'without', 'with'],\n",
       "       ['on the front of', 'on back of', 'below', 'above'],\n",
       "       ['on back of', 'on front of', 'out', 'in'],\n",
       "       ['on the back of', 'on front of', 'without', 'with'],\n",
       "       ['without', 'with', 'below', 'above'],\n",
       "       ['in the back of', 'on the front of', 'with', 'without'],\n",
       "       ['on front of', 'on back of', 'out', 'in'],\n",
       "       ['back of', 'in front of', 'above', 'below'],\n",
       "       ['on the front of', 'on the back of', 'below', 'above'],\n",
       "       ['on the front of', 'in back of', 'out', 'in'],\n",
       "       ['on the front of', 'in the back of', 'above', 'below'],\n",
       "       ['to the left of', 'to the right of', 'out', 'in'],\n",
       "       ['in the back of', 'on the front of', 'above', 'below'],\n",
       "       ['in the back of', 'on the front of', 'in', 'out'],\n",
       "       ['in front of', 'in back of', 'without', 'with'],\n",
       "       ['on the front of', 'on back of', 'above', 'below'],\n",
       "       ['to the right of', 'to the left of', 'above', 'below'],\n",
       "       ['to the right of', 'to the left of', 'with', 'without'],\n",
       "       ['on the front of', 'on back of', 'without', 'with'],\n",
       "       ['on the front of', 'on back of', 'with', 'without'],\n",
       "       ['in front of', 'back of', 'below', 'above'],\n",
       "       ['back of', 'on the front of', 'out', 'in'],\n",
       "       ['on the front of', 'back of', 'with', 'without'],\n",
       "       ['above', 'below', 'out', 'in'],\n",
       "       ['in front of', 'on the back of', 'out', 'in'],\n",
       "       ['on the front of', 'back of', 'without', 'with'],\n",
       "       ['on front of', 'on back of', 'below', 'above'],\n",
       "       ['back of', 'on front of', 'out', 'in'],\n",
       "       ['to the right of', 'to the left of', 'below', 'above'],\n",
       "       ['on the back of', 'on the front of', 'out', 'in'],\n",
       "       ['on front of', 'on the back of', 'with', 'without'],\n",
       "       ['back of', 'on the front of', 'with', 'without'],\n",
       "       ['in back of', 'on the front of', 'without', 'with'],\n",
       "       ['back of', 'on the front of', 'without', 'with'],\n",
       "       ['back of', 'on front of', 'with', 'without'],\n",
       "       ['in back of', 'on front of', 'with', 'without'],\n",
       "       ['on the back of', 'on the front of', 'above', 'below'],\n",
       "       ['on the front of', 'in the back of', 'below', 'above'],\n",
       "       ['on front of', 'in back of', 'without', 'with'],\n",
       "       ['on back of', 'on the front of', 'without', 'with'],\n",
       "       ['on the front of', 'on the back of', 'with', 'without'],\n",
       "       ['without', 'with', 'out', 'in'],\n",
       "       ['on front of', 'in the back of', 'with', 'without'],\n",
       "       ['on back of', 'on the front of', 'below', 'above'],\n",
       "       ['to the right of', 'to the left of', 'without', 'with'],\n",
       "       ['below', 'above', 'with', 'without'],\n",
       "       ['on the back of', 'on the front of', 'with', 'without'],\n",
       "       ['in', 'out', 'without', 'with'],\n",
       "       ['to the right of', 'to the left of', 'out', 'in'],\n",
       "       ['in back of', 'on the front of', 'out', 'in'],\n",
       "       ['in back of', 'on the front of', 'with', 'without']],\n",
       "      dtype='<U15')"
      ]
     },
     "execution_count": 115,
     "metadata": {},
     "output_type": "execute_result"
    }
   ],
   "source": [
    "results2_inspect = np.array([\n",
    "    (w1,w2,w3,w4)\n",
    "    for w1,w2,w3,w4 in test_suit2\n",
    "    if w1 in words\n",
    "    if w2 in words\n",
    "    if w3 in words\n",
    "    if w4 in words\n",
    "])[results2]\n",
    "results2_inspect"
   ]
  },
  {
   "cell_type": "code",
   "execution_count": null,
   "metadata": {
    "collapsed": true
   },
   "outputs": [],
   "source": []
  },
  {
   "cell_type": "code",
   "execution_count": 129,
   "metadata": {},
   "outputs": [
    {
     "data": {
      "text/plain": [
       "(20, 24, 0.8333333333333334)"
      ]
     },
     "execution_count": 129,
     "metadata": {},
     "output_type": "execute_result"
    }
   ],
   "source": [
    "results2_1 = [\n",
    "    analogy([w1, w3], [w2], embeddings_normal2, words, test_suit1_lexicon) == w4\n",
    "    for w1,w2,w3,w4 in test_suit1\n",
    "    if w1 in words\n",
    "    if w2 in words\n",
    "    if w3 in words\n",
    "    if w4 in words\n",
    "]\n",
    "sum(results2_1),len(results2_1),sum(results2_1)/len(results2_1)"
   ]
  },
  {
   "cell_type": "code",
   "execution_count": 130,
   "metadata": {},
   "outputs": [
    {
     "data": {
      "text/plain": [
       "(1, 24, 0.041666666666666664)"
      ]
     },
     "execution_count": 130,
     "metadata": {},
     "output_type": "execute_result"
    }
   ],
   "source": [
    "results2_random = [\n",
    "    np.random.choice(list(set(test_suit1_lexicon)-set([w1, w2, w3]))) == w4\n",
    "    for w1,w2,w3,w4 in test_suit1\n",
    "    if w1 in words\n",
    "    if w2 in words\n",
    "    if w3 in words\n",
    "    if w4 in words\n",
    "]\n",
    "sum(results2_random),len(results2_random), sum(results2_random)/len(results2_random)"
   ]
  },
  {
   "cell_type": "code",
   "execution_count": 131,
   "metadata": {},
   "outputs": [
    {
     "data": {
      "text/plain": [
       "0.09090909090909091"
      ]
     },
     "execution_count": 131,
     "metadata": {},
     "output_type": "execute_result"
    }
   ],
   "source": [
    "1/(len(test_suit1_lexicon)-3)"
   ]
  },
  {
   "cell_type": "code",
   "execution_count": 132,
   "metadata": {},
   "outputs": [
    {
     "data": {
      "text/plain": [
       "0.009259259259259259"
      ]
     },
     "execution_count": 132,
     "metadata": {},
     "output_type": "execute_result"
    }
   ],
   "source": [
    "results2_random = [\n",
    "    np.random.choice(list(set(test_suit2_lexicon)-set([composit2simple[w1],composit2simple[w2],composit2simple[w3]]))) == composit2simple[w4]\n",
    "    for w1,w2,w3,w4 in test_suit2\n",
    "    if w1 in words\n",
    "    if w2 in words\n",
    "    if w3 in words\n",
    "    if w4 in words\n",
    "]\n",
    "sum(results2_random)/len(results2_random)"
   ]
  },
  {
   "cell_type": "code",
   "execution_count": 133,
   "metadata": {},
   "outputs": [
    {
     "data": {
      "text/plain": [
       "0.16666666666666666"
      ]
     },
     "execution_count": 133,
     "metadata": {},
     "output_type": "execute_result"
    }
   ],
   "source": [
    "words_ls = np.array(list(logan_sadler_vecs.keys()))\n",
    "embs_ls = (np.array(list(logan_sadler_vecs.values())).reshape(10, 49)-1)/8\n",
    "results3 = [\n",
    "    analogy([w1, w3], [w2], embs_ls, words_ls, test_suit1_lexicon) == w4\n",
    "    for w1,w2,w3,w4 in test_suit1\n",
    "    if w1 in words_ls\n",
    "    if w2 in words_ls\n",
    "    if w3 in words_ls\n",
    "    if w4 in words_ls\n",
    "]\n",
    "sum(results3)/len(results3)"
   ]
  },
  {
   "cell_type": "code",
   "execution_count": 134,
   "metadata": {
    "scrolled": true
   },
   "outputs": [
    {
     "data": {
      "text/plain": [
       "array([['right', 'left', 'near', 'away'],\n",
       "       ['above', 'below', 'near', 'away'],\n",
       "       ['below', 'above', 'near', 'away'],\n",
       "       ['left', 'right', 'near', 'away']],\n",
       "      dtype='<U5')"
      ]
     },
     "execution_count": 134,
     "metadata": {},
     "output_type": "execute_result"
    }
   ],
   "source": [
    "results3_inspect = np.array([\n",
    "    (w1,w2,w3,w4)\n",
    "    for w1,w2,w3,w4 in test_suit1\n",
    "    if w1 in words_ls\n",
    "    if w2 in words_ls\n",
    "    if w3 in words_ls\n",
    "    if w4 in words_ls\n",
    "])[results3]\n",
    "results3_inspect"
   ]
  },
  {
   "cell_type": "code",
   "execution_count": 135,
   "metadata": {
    "collapsed": true
   },
   "outputs": [],
   "source": [
    "# intrinsic evaluations:\n",
    "dimensions_odd = [\n",
    "    ('left', 'right'),\n",
    "    ('above', 'over', 'under', 'below'),\n",
    "    ('front', 'back'),\n",
    "    ('in', 'out'), \n",
    "    ('away', 'near'),\n",
    "]\n",
    "\n",
    "odd_ones_1 = list({\n",
    "    tuple(list(p)+[w])\n",
    "    for d1 in dimensions_odd\n",
    "    for d2 in dimensions_odd\n",
    "    for w in d2\n",
    "    for w1 in d1\n",
    "    for w2 in d1\n",
    "    for p in permutations([w1, w2, w])\n",
    "    if w1 != w2\n",
    "    if d1 != d2\n",
    "})\n",
    "\n",
    "odd_ones_2 = list({\n",
    "    (w_alt1,w_alt2,w_alt3, w_alt1 if w4==w1 else w_alt2 if w4==w2 else w_alt3 ,)\n",
    "    for w1,w2,w3,w4 in odd_ones_1\n",
    "    for w_alt1 in simple2composit[w1]\n",
    "    for w_alt2 in simple2composit[w2]\n",
    "    for w_alt3 in simple2composit[w3]\n",
    "})\n",
    "\n",
    "odd_ones_1_lexicon = set(w for test in odd_ones_1 for w in test)\n",
    "odd_ones_2_lexicon = set(w for test in odd_ones_2 for w in test)"
   ]
  },
  {
   "cell_type": "code",
   "execution_count": 136,
   "metadata": {},
   "outputs": [
    {
     "data": {
      "text/plain": [
       "(528, 251880)"
      ]
     },
     "execution_count": 136,
     "metadata": {},
     "output_type": "execute_result"
    }
   ],
   "source": [
    "len(odd_ones_1), len(odd_ones_2)"
   ]
  },
  {
   "cell_type": "code",
   "execution_count": 137,
   "metadata": {
    "collapsed": true
   },
   "outputs": [],
   "source": [
    "def odd_one(items, embeddings, lexicon):\n",
    "    vecs = [embeddings[lexicon == w] for w in items]\n",
    "    \n",
    "    distances = [\n",
    "        (distance.cosine(vec1, vec2), i)\n",
    "        for i, vec1 in enumerate(vecs)\n",
    "        for j, vec2 in enumerate(vecs)\n",
    "        if i < j\n",
    "    ]\n",
    "    \n",
    "    results = sorted([\n",
    "        (sum([d for d, i in distances if i == index]), w)\n",
    "        for index, w in enumerate(items)\n",
    "    ], reverse=True)\n",
    "    \n",
    "    return results[0][1]"
   ]
  },
  {
   "cell_type": "code",
   "execution_count": 144,
   "metadata": {},
   "outputs": [
    {
     "data": {
      "text/plain": [
       "(178, 528, 0.3371212121212121)"
      ]
     },
     "execution_count": 144,
     "metadata": {},
     "output_type": "execute_result"
    }
   ],
   "source": [
    "o_results = [\n",
    "    odd_one([w1, w2, w3], embeddings_glove, spatial_lexicon) == w4\n",
    "    for w1,w2,w3,w4 in odd_ones_1\n",
    "    if w1 in spatial_lexicon\n",
    "    if w2 in spatial_lexicon\n",
    "    if w3 in spatial_lexicon\n",
    "    if w4 in spatial_lexicon\n",
    "]\n",
    "\n",
    "sum(o_results),len(o_results), sum(o_results)/len(o_results)"
   ]
  },
  {
   "cell_type": "code",
   "execution_count": 145,
   "metadata": {},
   "outputs": [
    {
     "data": {
      "text/plain": [
       "(176, 528, 0.3333333333333333)"
      ]
     },
     "execution_count": 145,
     "metadata": {},
     "output_type": "execute_result"
    }
   ],
   "source": [
    "o_results = [\n",
    "    odd_one([w1, w2, w3], embeddings_glove2, spatial_lexicon) == w4\n",
    "    for w1,w2,w3,w4 in odd_ones_1\n",
    "    if w1 in spatial_lexicon\n",
    "    if w2 in spatial_lexicon\n",
    "    if w3 in spatial_lexicon\n",
    "    if w4 in spatial_lexicon\n",
    "]\n",
    "\n",
    "sum(o_results),len(o_results), sum(o_results)/len(o_results)"
   ]
  },
  {
   "cell_type": "code",
   "execution_count": 146,
   "metadata": {},
   "outputs": [
    {
     "data": {
      "text/plain": [
       "(176, 528, 0.3333333333333333)"
      ]
     },
     "execution_count": 146,
     "metadata": {},
     "output_type": "execute_result"
    }
   ],
   "source": [
    "o_results = [\n",
    "    odd_one([w1, w2, w3], embeddings_lm, spatial_lexicon) == w4\n",
    "    for w1,w2,w3,w4 in odd_ones_1\n",
    "    if w1 in spatial_lexicon\n",
    "    if w2 in spatial_lexicon\n",
    "    if w3 in spatial_lexicon\n",
    "    if w4 in spatial_lexicon\n",
    "]\n",
    "\n",
    "sum(o_results),len(o_results), sum(o_results)/len(o_results)"
   ]
  },
  {
   "cell_type": "code",
   "execution_count": 149,
   "metadata": {},
   "outputs": [
    {
     "data": {
      "text/plain": [
       "(39, 96, 0.40625)"
      ]
     },
     "execution_count": 149,
     "metadata": {},
     "output_type": "execute_result"
    }
   ],
   "source": [
    "o_results2_1 = [\n",
    "    odd_one([w1, w2, w3], embeddings_normal2, words) == w4\n",
    "    for w1,w2,w3,w4 in odd_ones_1\n",
    "    if w1 in words\n",
    "    if w2 in words\n",
    "    if w3 in words\n",
    "    if w4 in words\n",
    "]\n",
    "\n",
    "sum(o_results2_1),len(o_results2_1), sum(o_results2_1)/len(o_results2_1)"
   ]
  },
  {
   "cell_type": "code",
   "execution_count": 150,
   "metadata": {},
   "outputs": [
    {
     "data": {
      "text/plain": [
       "(537, 1320, 0.4068181818181818)"
      ]
     },
     "execution_count": 150,
     "metadata": {},
     "output_type": "execute_result"
    }
   ],
   "source": [
    "o_results2_2 = [\n",
    "    odd_one([w1, w2, w3], embeddings_normal2, words) == w4\n",
    "    for w1,w2,w3,w4 in odd_ones_2\n",
    "    if w1 in words\n",
    "    if w2 in words\n",
    "    if w3 in words\n",
    "    if w4 in words\n",
    "]\n",
    "\n",
    "sum(o_results2_2),len(o_results2_2),sum(o_results2_2)/len(o_results2_2)"
   ]
  },
  {
   "cell_type": "code",
   "execution_count": 151,
   "metadata": {},
   "outputs": [
    {
     "data": {
      "text/plain": [
       "('to right side of', 'by the back of', 'by left of', 'by the back of')"
      ]
     },
     "execution_count": 151,
     "metadata": {},
     "output_type": "execute_result"
    }
   ],
   "source": [
    "odd_ones_2[105]"
   ]
  },
  {
   "cell_type": "code",
   "execution_count": 582,
   "metadata": {},
   "outputs": [
    {
     "data": {
      "text/plain": [
       "0.3390151515151515"
      ]
     },
     "execution_count": 582,
     "metadata": {},
     "output_type": "execute_result"
    }
   ],
   "source": [
    "o_random1 = [\n",
    "   np.random.choice([w1, w2, w3]) == w4\n",
    "    for w1,w2,w3,w4 in odd_ones_1\n",
    "    if w1 in words\n",
    "    if w2 in words\n",
    "    if w3 in words\n",
    "    if w4 in words\n",
    "]\n",
    "\n",
    "sum(o_random1)/len(o_random1)"
   ]
  },
  {
   "cell_type": "code",
   "execution_count": 583,
   "metadata": {},
   "outputs": [
    {
     "data": {
      "text/plain": [
       "0.06619087601455359"
      ]
     },
     "execution_count": 583,
     "metadata": {},
     "output_type": "execute_result"
    }
   ],
   "source": [
    "o_random2 = [\n",
    "    np.random.choice([w1, w2, w3]) == w4\n",
    "    for w1,w2,w3,w4 in odd_ones_2\n",
    "    if w1 in words\n",
    "    if w2 in words\n",
    "    if w3 in words\n",
    "    if w4 in words\n",
    "]\n",
    "sum(o_random2)/len(o_random2)"
   ]
  },
  {
   "cell_type": "code",
   "execution_count": 584,
   "metadata": {},
   "outputs": [
    {
     "data": {
      "text/plain": [
       "('over', 'left', 'right', 'over')"
      ]
     },
     "execution_count": 584,
     "metadata": {},
     "output_type": "execute_result"
    }
   ],
   "source": [
    "odd_ones_1[111]"
   ]
  },
  {
   "cell_type": "code",
   "execution_count": 148,
   "metadata": {},
   "outputs": [
    {
     "data": {
      "text/plain": [
       "(59, 216, 0.27314814814814814)"
      ]
     },
     "execution_count": 148,
     "metadata": {},
     "output_type": "execute_result"
    }
   ],
   "source": [
    "o_results3 = [\n",
    "    odd_one([w1, w2, w3], embs_ls, words_ls) == w4\n",
    "    for w1,w2,w3,w4 in odd_ones_1\n",
    "    if w1 in words_ls\n",
    "    if w2 in words_ls\n",
    "    if w3 in words_ls\n",
    "    if w4 in words_ls\n",
    "]\n",
    "sum(o_results3),len(o_results3), sum(o_results3)/len(o_results3)"
   ]
  },
  {
   "cell_type": "code",
   "execution_count": 586,
   "metadata": {},
   "outputs": [
    {
     "data": {
      "text/plain": [
       "0.3333333333333333"
      ]
     },
     "execution_count": 586,
     "metadata": {},
     "output_type": "execute_result"
    }
   ],
   "source": [
    "o_results4 = [\n",
    "    odd_one([w1, w2, w3], embeddings_lm, spatial_lexicon) == w4\n",
    "    for w1,w2,w3,w4 in odd_ones_1\n",
    "    if w1 in spatial_lexicon\n",
    "    if w2 in spatial_lexicon\n",
    "    if w3 in spatial_lexicon\n",
    "    if w4 in spatial_lexicon\n",
    "]\n",
    "\n",
    "sum(o_results4)/len(o_results4)"
   ]
  },
  {
   "cell_type": "code",
   "execution_count": 587,
   "metadata": {},
   "outputs": [
    {
     "data": {
      "text/plain": [
       "array([[list(['right', 'in', 'out']), 'right'],\n",
       "       [list(['left', 'below', 'above']), 'left'],\n",
       "       [list(['front', 'over', 'below']), 'front'],\n",
       "       [list(['near', 'over', 'below']), 'near'],\n",
       "       [list(['away', 'back', 'front']), 'away'],\n",
       "       [list(['in', 'below', 'over']), 'in'],\n",
       "       [list(['under', 'near', 'away']), 'under'],\n",
       "       [list(['above', 'left', 'right']), 'above'],\n",
       "       [list(['under', 'in', 'out']), 'under'],\n",
       "       [list(['back', 'out', 'in']), 'back'],\n",
       "       [list(['out', 'right', 'left']), 'out'],\n",
       "       [list(['in', 'right', 'left']), 'in'],\n",
       "       [list(['front', 'below', 'under']), 'front'],\n",
       "       [list(['in', 'over', 'under']), 'in'],\n",
       "       [list(['below', 'front', 'back']), 'below'],\n",
       "       [list(['near', 'under', 'above']), 'near'],\n",
       "       [list(['front', 'out', 'in']), 'front'],\n",
       "       [list(['above', 'back', 'front']), 'above'],\n",
       "       [list(['near', 'above', 'over']), 'near'],\n",
       "       [list(['back', 'under', 'over']), 'back'],\n",
       "       [list(['out', 'under', 'over']), 'out'],\n",
       "       [list(['left', 'out', 'in']), 'left'],\n",
       "       [list(['right', 'above', 'under']), 'right'],\n",
       "       [list(['right', 'above', 'below']), 'right'],\n",
       "       [list(['under', 'out', 'in']), 'under'],\n",
       "       [list(['near', 'above', 'under']), 'near'],\n",
       "       [list(['out', 'below', 'above']), 'out'],\n",
       "       [list(['above', 'near', 'away']), 'above'],\n",
       "       [list(['front', 'near', 'away']), 'front'],\n",
       "       [list(['near', 'over', 'above']), 'near'],\n",
       "       [list(['left', 'over', 'below']), 'left'],\n",
       "       [list(['right', 'over', 'above']), 'right'],\n",
       "       [list(['right', 'front', 'back']), 'right'],\n",
       "       [list(['over', 'front', 'back']), 'over'],\n",
       "       [list(['back', 'left', 'right']), 'back'],\n",
       "       [list(['in', 'over', 'above']), 'in'],\n",
       "       [list(['front', 'below', 'over']), 'front'],\n",
       "       [list(['near', 'below', 'over']), 'near'],\n",
       "       [list(['in', 'over', 'below']), 'in'],\n",
       "       [list(['left', 'back', 'front']), 'left'],\n",
       "       [list(['over', 'left', 'right']), 'over'],\n",
       "       [list(['out', 'under', 'above']), 'out'],\n",
       "       [list(['back', 'over', 'above']), 'back'],\n",
       "       [list(['out', 'over', 'above']), 'out'],\n",
       "       [list(['left', 'above', 'over']), 'left'],\n",
       "       [list(['away', 'under', 'below']), 'away'],\n",
       "       [list(['right', 'under', 'over']), 'right'],\n",
       "       [list(['front', 'over', 'above']), 'front'],\n",
       "       [list(['near', 'over', 'under']), 'near'],\n",
       "       [list(['right', 'over', 'under']), 'right'],\n",
       "       [list(['away', 'under', 'over']), 'away'],\n",
       "       [list(['right', 'away', 'near']), 'right'],\n",
       "       [list(['left', 'under', 'below']), 'left'],\n",
       "       [list(['right', 'above', 'over']), 'right'],\n",
       "       [list(['front', 'under', 'over']), 'front'],\n",
       "       [list(['near', 'under', 'over']), 'near'],\n",
       "       [list(['left', 'near', 'away']), 'left'],\n",
       "       [list(['front', 'below', 'above']), 'front'],\n",
       "       [list(['front', 'away', 'near']), 'front'],\n",
       "       [list(['back', 'below', 'above']), 'back'],\n",
       "       [list(['left', 'below', 'under']), 'left'],\n",
       "       [list(['above', 'front', 'back']), 'above'],\n",
       "       [list(['front', 'above', 'below']), 'front'],\n",
       "       [list(['near', 'above', 'below']), 'near'],\n",
       "       [list(['near', 'in', 'out']), 'near'],\n",
       "       [list(['under', 'away', 'near']), 'under'],\n",
       "       [list(['back', 'above', 'below']), 'back'],\n",
       "       [list(['away', 'above', 'over']), 'away'],\n",
       "       [list(['away', 'left', 'right']), 'away'],\n",
       "       [list(['away', 'over', 'below']), 'away'],\n",
       "       [list(['out', 'front', 'back']), 'out'],\n",
       "       [list(['in', 'above', 'over']), 'in'],\n",
       "       [list(['away', 'above', 'under']), 'away'],\n",
       "       [list(['near', 'front', 'back']), 'near'],\n",
       "       [list(['out', 'above', 'over']), 'out'],\n",
       "       [list(['left', 'below', 'over']), 'left'],\n",
       "       [list(['near', 'right', 'left']), 'near'],\n",
       "       [list(['in', 'left', 'right']), 'in'],\n",
       "       [list(['out', 'back', 'front']), 'out'],\n",
       "       [list(['below', 'out', 'in']), 'below'],\n",
       "       [list(['right', 'under', 'below']), 'right'],\n",
       "       [list(['away', 'right', 'left']), 'away'],\n",
       "       [list(['right', 'below', 'under']), 'right'],\n",
       "       [list(['out', 'below', 'over']), 'out'],\n",
       "       [list(['in', 'above', 'below']), 'in'],\n",
       "       [list(['right', 'near', 'away']), 'right'],\n",
       "       [list(['above', 'away', 'near']), 'above'],\n",
       "       [list(['away', 'over', 'above']), 'away'],\n",
       "       [list(['back', 'in', 'out']), 'back'],\n",
       "       [list(['under', 'left', 'right']), 'under'],\n",
       "       [list(['out', 'left', 'right']), 'out'],\n",
       "       [list(['back', 'under', 'below']), 'back'],\n",
       "       [list(['in', 'back', 'front']), 'in'],\n",
       "       [list(['away', 'below', 'above']), 'away'],\n",
       "       [list(['right', 'under', 'above']), 'right'],\n",
       "       [list(['front', 'left', 'right']), 'front'],\n",
       "       [list(['out', 'above', 'under']), 'out'],\n",
       "       [list(['near', 'out', 'in']), 'near'],\n",
       "       [list(['out', 'away', 'near']), 'out'],\n",
       "       [list(['right', 'back', 'front']), 'right'],\n",
       "       [list(['in', 'near', 'away']), 'in'],\n",
       "       [list(['right', 'out', 'in']), 'right'],\n",
       "       [list(['back', 'above', 'over']), 'back'],\n",
       "       [list(['over', 'out', 'in']), 'over'],\n",
       "       [list(['left', 'away', 'near']), 'left'],\n",
       "       [list(['right', 'below', 'over']), 'right'],\n",
       "       [list(['left', 'over', 'above']), 'left'],\n",
       "       [list(['front', 'above', 'under']), 'front'],\n",
       "       [list(['back', 'near', 'away']), 'back'],\n",
       "       [list(['back', 'below', 'over']), 'back'],\n",
       "       [list(['under', 'back', 'front']), 'under'],\n",
       "       [list(['away', 'in', 'out']), 'away'],\n",
       "       [list(['back', 'below', 'under']), 'back'],\n",
       "       [list(['out', 'below', 'under']), 'out'],\n",
       "       [list(['front', 'in', 'out']), 'front'],\n",
       "       [list(['below', 'away', 'near']), 'below'],\n",
       "       [list(['near', 'below', 'under']), 'near'],\n",
       "       [list(['right', 'below', 'above']), 'right'],\n",
       "       [list(['front', 'under', 'above']), 'front'],\n",
       "       [list(['over', 'right', 'left']), 'over'],\n",
       "       [list(['over', 'back', 'front']), 'over'],\n",
       "       [list(['left', 'above', 'below']), 'left'],\n",
       "       [list(['left', 'under', 'above']), 'left'],\n",
       "       [list(['below', 'back', 'front']), 'below'],\n",
       "       [list(['front', 'above', 'over']), 'front'],\n",
       "       [list(['near', 'below', 'above']), 'near'],\n",
       "       [list(['away', 'under', 'above']), 'away'],\n",
       "       [list(['below', 'left', 'right']), 'below'],\n",
       "       [list(['back', 'over', 'under']), 'back'],\n",
       "       [list(['out', 'over', 'under']), 'out'],\n",
       "       [list(['right', 'over', 'below']), 'right'],\n",
       "       [list(['left', 'front', 'back']), 'left'],\n",
       "       [list(['back', 'over', 'below']), 'back'],\n",
       "       [list(['out', 'over', 'below']), 'out'],\n",
       "       [list(['below', 'near', 'away']), 'below'],\n",
       "       [list(['out', 'under', 'below']), 'out'],\n",
       "       [list(['left', 'in', 'out']), 'left'],\n",
       "       [list(['in', 'below', 'under']), 'in'],\n",
       "       [list(['in', 'under', 'over']), 'in'],\n",
       "       [list(['above', 'in', 'out']), 'above'],\n",
       "       [list(['below', 'in', 'out']), 'below'],\n",
       "       [list(['left', 'under', 'over']), 'left'],\n",
       "       [list(['back', 'under', 'above']), 'back'],\n",
       "       [list(['in', 'above', 'under']), 'in'],\n",
       "       [list(['near', 'left', 'right']), 'near'],\n",
       "       [list(['away', 'front', 'back']), 'away'],\n",
       "       [list(['in', 'under', 'above']), 'in'],\n",
       "       [list(['over', 'in', 'out']), 'over'],\n",
       "       [list(['in', 'below', 'above']), 'in'],\n",
       "       [list(['in', 'under', 'below']), 'in'],\n",
       "       [list(['away', 'above', 'below']), 'away'],\n",
       "       [list(['left', 'above', 'under']), 'left'],\n",
       "       [list(['front', 'under', 'below']), 'front'],\n",
       "       [list(['near', 'under', 'below']), 'near'],\n",
       "       [list(['front', 'right', 'left']), 'front'],\n",
       "       [list(['out', 'near', 'away']), 'out'],\n",
       "       [list(['front', 'over', 'under']), 'front'],\n",
       "       [list(['above', 'out', 'in']), 'above'],\n",
       "       [list(['back', 'right', 'left']), 'back'],\n",
       "       [list(['away', 'below', 'under']), 'away'],\n",
       "       [list(['under', 'front', 'back']), 'under'],\n",
       "       [list(['over', 'away', 'near']), 'over'],\n",
       "       [list(['over', 'near', 'away']), 'over'],\n",
       "       [list(['below', 'right', 'left']), 'below'],\n",
       "       [list(['away', 'below', 'over']), 'away'],\n",
       "       [list(['near', 'back', 'front']), 'near'],\n",
       "       [list(['away', 'out', 'in']), 'away'],\n",
       "       [list(['out', 'above', 'below']), 'out'],\n",
       "       [list(['left', 'over', 'under']), 'left'],\n",
       "       [list(['back', 'above', 'under']), 'back'],\n",
       "       [list(['back', 'away', 'near']), 'back'],\n",
       "       [list(['above', 'right', 'left']), 'above'],\n",
       "       [list(['in', 'front', 'back']), 'in'],\n",
       "       [list(['under', 'right', 'left']), 'under'],\n",
       "       [list(['away', 'over', 'under']), 'away'],\n",
       "       [list(['in', 'away', 'near']), 'in']], dtype=object)"
      ]
     },
     "execution_count": 587,
     "metadata": {},
     "output_type": "execute_result"
    }
   ],
   "source": [
    "np.array([\n",
    "    ([w1, w2, w3], w4)\n",
    "    for w1,w2,w3,w4 in odd_ones_1\n",
    "    if w1 in spatial_lexicon\n",
    "    if w2 in spatial_lexicon\n",
    "    if w3 in spatial_lexicon\n",
    "    if w4 in spatial_lexicon\n",
    "])[o_results4]"
   ]
  },
  {
   "cell_type": "code",
   "execution_count": 697,
   "metadata": {},
   "outputs": [
    {
     "data": {
      "text/plain": [
       "0.0050861726053168521"
      ]
     },
     "execution_count": 697,
     "metadata": {},
     "output_type": "execute_result"
    }
   ],
   "source": []
  },
  {
   "cell_type": "code",
   "execution_count": null,
   "metadata": {
    "collapsed": true
   },
   "outputs": [],
   "source": []
  }
 ],
 "metadata": {
  "kernelspec": {
   "display_name": "Python 3",
   "language": "python",
   "name": "python3"
  },
  "language_info": {
   "codemirror_mode": {
    "name": "ipython",
    "version": 3
   },
   "file_extension": ".py",
   "mimetype": "text/x-python",
   "name": "python",
   "nbconvert_exporter": "python",
   "pygments_lexer": "ipython3",
   "version": "3.6.2"
  }
 },
 "nbformat": 4,
 "nbformat_minor": 2
}
